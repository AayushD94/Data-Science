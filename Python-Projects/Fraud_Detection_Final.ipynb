{
 "cells": [
  {
   "cell_type": "code",
   "execution_count": 173,
   "metadata": {},
   "outputs": [
    {
     "data": {
      "text/html": [
       "<div>\n",
       "<style>\n",
       "    .dataframe thead tr:only-child th {\n",
       "        text-align: right;\n",
       "    }\n",
       "\n",
       "    .dataframe thead th {\n",
       "        text-align: left;\n",
       "    }\n",
       "\n",
       "    .dataframe tbody tr th {\n",
       "        vertical-align: top;\n",
       "    }\n",
       "</style>\n",
       "<table border=\"1\" class=\"dataframe\">\n",
       "  <thead>\n",
       "    <tr style=\"text-align: right;\">\n",
       "      <th></th>\n",
       "      <th>Time</th>\n",
       "      <th>V1</th>\n",
       "      <th>V2</th>\n",
       "      <th>V3</th>\n",
       "      <th>V4</th>\n",
       "      <th>V5</th>\n",
       "      <th>V6</th>\n",
       "      <th>V7</th>\n",
       "      <th>V8</th>\n",
       "      <th>V9</th>\n",
       "      <th>...</th>\n",
       "      <th>V21</th>\n",
       "      <th>V22</th>\n",
       "      <th>V23</th>\n",
       "      <th>V24</th>\n",
       "      <th>V25</th>\n",
       "      <th>V26</th>\n",
       "      <th>V27</th>\n",
       "      <th>V28</th>\n",
       "      <th>Amount</th>\n",
       "      <th>Class</th>\n",
       "    </tr>\n",
       "  </thead>\n",
       "  <tbody>\n",
       "    <tr>\n",
       "      <th>0</th>\n",
       "      <td>0.0</td>\n",
       "      <td>-1.359807</td>\n",
       "      <td>-0.072781</td>\n",
       "      <td>2.536347</td>\n",
       "      <td>1.378155</td>\n",
       "      <td>-0.338321</td>\n",
       "      <td>0.462388</td>\n",
       "      <td>0.239599</td>\n",
       "      <td>0.098698</td>\n",
       "      <td>0.363787</td>\n",
       "      <td>...</td>\n",
       "      <td>-0.018307</td>\n",
       "      <td>0.277838</td>\n",
       "      <td>-0.110474</td>\n",
       "      <td>0.066928</td>\n",
       "      <td>0.128539</td>\n",
       "      <td>-0.189115</td>\n",
       "      <td>0.133558</td>\n",
       "      <td>-0.021053</td>\n",
       "      <td>149.62</td>\n",
       "      <td>0</td>\n",
       "    </tr>\n",
       "    <tr>\n",
       "      <th>1</th>\n",
       "      <td>0.0</td>\n",
       "      <td>1.191857</td>\n",
       "      <td>0.266151</td>\n",
       "      <td>0.166480</td>\n",
       "      <td>0.448154</td>\n",
       "      <td>0.060018</td>\n",
       "      <td>-0.082361</td>\n",
       "      <td>-0.078803</td>\n",
       "      <td>0.085102</td>\n",
       "      <td>-0.255425</td>\n",
       "      <td>...</td>\n",
       "      <td>-0.225775</td>\n",
       "      <td>-0.638672</td>\n",
       "      <td>0.101288</td>\n",
       "      <td>-0.339846</td>\n",
       "      <td>0.167170</td>\n",
       "      <td>0.125895</td>\n",
       "      <td>-0.008983</td>\n",
       "      <td>0.014724</td>\n",
       "      <td>2.69</td>\n",
       "      <td>0</td>\n",
       "    </tr>\n",
       "    <tr>\n",
       "      <th>2</th>\n",
       "      <td>1.0</td>\n",
       "      <td>-1.358354</td>\n",
       "      <td>-1.340163</td>\n",
       "      <td>1.773209</td>\n",
       "      <td>0.379780</td>\n",
       "      <td>-0.503198</td>\n",
       "      <td>1.800499</td>\n",
       "      <td>0.791461</td>\n",
       "      <td>0.247676</td>\n",
       "      <td>-1.514654</td>\n",
       "      <td>...</td>\n",
       "      <td>0.247998</td>\n",
       "      <td>0.771679</td>\n",
       "      <td>0.909412</td>\n",
       "      <td>-0.689281</td>\n",
       "      <td>-0.327642</td>\n",
       "      <td>-0.139097</td>\n",
       "      <td>-0.055353</td>\n",
       "      <td>-0.059752</td>\n",
       "      <td>378.66</td>\n",
       "      <td>0</td>\n",
       "    </tr>\n",
       "    <tr>\n",
       "      <th>3</th>\n",
       "      <td>1.0</td>\n",
       "      <td>-0.966272</td>\n",
       "      <td>-0.185226</td>\n",
       "      <td>1.792993</td>\n",
       "      <td>-0.863291</td>\n",
       "      <td>-0.010309</td>\n",
       "      <td>1.247203</td>\n",
       "      <td>0.237609</td>\n",
       "      <td>0.377436</td>\n",
       "      <td>-1.387024</td>\n",
       "      <td>...</td>\n",
       "      <td>-0.108300</td>\n",
       "      <td>0.005274</td>\n",
       "      <td>-0.190321</td>\n",
       "      <td>-1.175575</td>\n",
       "      <td>0.647376</td>\n",
       "      <td>-0.221929</td>\n",
       "      <td>0.062723</td>\n",
       "      <td>0.061458</td>\n",
       "      <td>123.50</td>\n",
       "      <td>0</td>\n",
       "    </tr>\n",
       "    <tr>\n",
       "      <th>4</th>\n",
       "      <td>2.0</td>\n",
       "      <td>-1.158233</td>\n",
       "      <td>0.877737</td>\n",
       "      <td>1.548718</td>\n",
       "      <td>0.403034</td>\n",
       "      <td>-0.407193</td>\n",
       "      <td>0.095921</td>\n",
       "      <td>0.592941</td>\n",
       "      <td>-0.270533</td>\n",
       "      <td>0.817739</td>\n",
       "      <td>...</td>\n",
       "      <td>-0.009431</td>\n",
       "      <td>0.798278</td>\n",
       "      <td>-0.137458</td>\n",
       "      <td>0.141267</td>\n",
       "      <td>-0.206010</td>\n",
       "      <td>0.502292</td>\n",
       "      <td>0.219422</td>\n",
       "      <td>0.215153</td>\n",
       "      <td>69.99</td>\n",
       "      <td>0</td>\n",
       "    </tr>\n",
       "  </tbody>\n",
       "</table>\n",
       "<p>5 rows × 31 columns</p>\n",
       "</div>"
      ],
      "text/plain": [
       "   Time        V1        V2        V3        V4        V5        V6        V7  \\\n",
       "0   0.0 -1.359807 -0.072781  2.536347  1.378155 -0.338321  0.462388  0.239599   \n",
       "1   0.0  1.191857  0.266151  0.166480  0.448154  0.060018 -0.082361 -0.078803   \n",
       "2   1.0 -1.358354 -1.340163  1.773209  0.379780 -0.503198  1.800499  0.791461   \n",
       "3   1.0 -0.966272 -0.185226  1.792993 -0.863291 -0.010309  1.247203  0.237609   \n",
       "4   2.0 -1.158233  0.877737  1.548718  0.403034 -0.407193  0.095921  0.592941   \n",
       "\n",
       "         V8        V9  ...         V21       V22       V23       V24  \\\n",
       "0  0.098698  0.363787  ...   -0.018307  0.277838 -0.110474  0.066928   \n",
       "1  0.085102 -0.255425  ...   -0.225775 -0.638672  0.101288 -0.339846   \n",
       "2  0.247676 -1.514654  ...    0.247998  0.771679  0.909412 -0.689281   \n",
       "3  0.377436 -1.387024  ...   -0.108300  0.005274 -0.190321 -1.175575   \n",
       "4 -0.270533  0.817739  ...   -0.009431  0.798278 -0.137458  0.141267   \n",
       "\n",
       "        V25       V26       V27       V28  Amount  Class  \n",
       "0  0.128539 -0.189115  0.133558 -0.021053  149.62      0  \n",
       "1  0.167170  0.125895 -0.008983  0.014724    2.69      0  \n",
       "2 -0.327642 -0.139097 -0.055353 -0.059752  378.66      0  \n",
       "3  0.647376 -0.221929  0.062723  0.061458  123.50      0  \n",
       "4 -0.206010  0.502292  0.219422  0.215153   69.99      0  \n",
       "\n",
       "[5 rows x 31 columns]"
      ]
     },
     "execution_count": 173,
     "metadata": {},
     "output_type": "execute_result"
    }
   ],
   "source": [
    "import numpy as np\n",
    "import pandas as pd\n",
    "data = pd.read_csv(\"fraud_data.csv\")\n",
    "data.head()"
   ]
  },
  {
   "cell_type": "code",
   "execution_count": 174,
   "metadata": {
    "collapsed": true
   },
   "outputs": [],
   "source": [
    "X = data.copy()\n",
    "X.drop('Class', axis = 1, inplace = True)\n",
    "y = data['Class'].copy()"
   ]
  },
  {
   "cell_type": "code",
   "execution_count": 175,
   "metadata": {},
   "outputs": [
    {
     "data": {
      "image/png": "[encoded data removed]",
      "text/plain": [
       "<matplotlib.figure.Figure at 0x11d3d6be0>"
      ]
     },
     "metadata": {},
     "output_type": "display_data"
    }
   ],
   "source": [
    "import seaborn as sn\n",
    "import matplotlib.pyplot as plt\n",
    "sn.countplot(x='Class', data = data)\n",
    "plt.show()"
   ]
  },
  {
   "cell_type": "markdown",
   "metadata": {},
   "source": [
    "We see that there is a high imbalance in the class levels of our data. As a result, we need to stratify our data."
   ]
  },
  {
   "cell_type": "code",
   "execution_count": 176,
   "metadata": {},
   "outputs": [
    {
     "data": {
      "text/plain": [
       "0    284315\n",
       "1       492\n",
       "Name: Class, dtype: int64"
      ]
     },
     "execution_count": 176,
     "metadata": {},
     "output_type": "execute_result"
    }
   ],
   "source": [
    "y.value_counts()"
   ]
  },
  {
   "cell_type": "code",
   "execution_count": 177,
   "metadata": {
    "collapsed": true
   },
   "outputs": [],
   "source": [
    "from sklearn.model_selection import train_test_split\n",
    "X_train, X_test, y_train, y_test = train_test_split(X, y, stratify = y , random_state = 0)"
   ]
  },
  {
   "cell_type": "markdown",
   "metadata": {},
   "source": [
    "k-NN classification"
   ]
  },
  {
   "cell_type": "code",
   "execution_count": 178,
   "metadata": {},
   "outputs": [
    {
     "name": "stdout",
     "output_type": "stream",
     "text": [
      "Neigbors: 1\n",
      "Accuracy: 0.998\n",
      "Neigbors: 2\n",
      "Accuracy: 0.998\n",
      "Neigbors: 3\n",
      "Accuracy: 0.998\n",
      "Neigbors: 4\n",
      "Accuracy: 0.998\n",
      "Neigbors: 5\n",
      "Accuracy: 0.998\n"
     ]
    }
   ],
   "source": [
    "from sklearn.neighbors import KNeighborsClassifier\n",
    "\n",
    "trainscore=[]\n",
    "testscore=[]\n",
    "for n in range(1,6):\n",
    "    knn = KNeighborsClassifier(n_neighbors = n)\n",
    "    knn.fit(X_train, y_train)\n",
    "    trainscore.append(knn.score(X_train, y_train))\n",
    "    testscore.append(knn.score(X_test, y_test))\n",
    "    print('Neigbors: {:.0f}'.format(n))\n",
    "    print('Accuracy: {:.3f}'.format(knn.score(X_test, y_test)))    \n",
    "    \n"
   ]
  },
  {
   "cell_type": "code",
   "execution_count": 179,
   "metadata": {},
   "outputs": [
    {
     "data": {
      "image/png": "[encoded data removed]",
      "text/plain": [
       "<matplotlib.figure.Figure at 0x11d3c8b00>"
      ]
     },
     "metadata": {},
     "output_type": "display_data"
    }
   ],
   "source": [
    "import matplotlib.pyplot as plt\n",
    "plt.plot(range(1,6),trainscore, 'r--', range(1,6), testscore,'-') \n",
    "plt.title('Comparison of scores for different values of k')\n",
    "plt.xlabel('k value')\n",
    "plt.ylabel('Score')\n",
    "plt.show()"
   ]
  },
  {
   "cell_type": "markdown",
   "metadata": {},
   "source": [
    "LOGIT"
   ]
  },
  {
   "cell_type": "code",
   "execution_count": 180,
   "metadata": {},
   "outputs": [
    {
     "name": "stdout",
     "output_type": "stream",
     "text": [
      "Accuracy of Logistic regression classifier on training set: 1.00\n",
      "Accuracy of Logistic regression classifier on test set: 1.00\n"
     ]
    }
   ],
   "source": [
    "from sklearn.linear_model import LogisticRegression\n",
    "clf_lr = LogisticRegression(C=100).fit(X_train, y_train)\n",
    "print('Accuracy of Logistic regression classifier on training set: {:.2f}'\n",
    "     .format(clf_lr.score(X_train, y_train)))\n",
    "print('Accuracy of Logistic regression classifier on test set: {:.2f}'\n",
    "     .format(clf_lr.score(X_test, y_test)))"
   ]
  },
  {
   "cell_type": "markdown",
   "metadata": {},
   "source": [
    "SVC (Linear)"
   ]
  },
  {
   "cell_type": "code",
   "execution_count": 181,
   "metadata": {},
   "outputs": [
    {
     "name": "stdout",
     "output_type": "stream",
     "text": [
      "Accuracy of SVC(Linear) classifier on training set: 1.00\n",
      "Accuracy of SVC(Linear) classifier on test set: 1.00\n"
     ]
    }
   ],
   "source": [
    "from sklearn.svm import SVC\n",
    "clf_SVC_linear = SVC(kernel = 'linear', C= 1.0).fit(X_train, y_train)\n",
    "print('Accuracy of SVC(Linear) classifier on training set: {:.2f}'\n",
    "     .format(clf_SVC_linear.score(X_train, y_train)))\n",
    "print('Accuracy of SVC(Linear) classifier on test set: {:.2f}'\n",
    "     .format(clf_SVC_linear.score(X_test, y_test)))\n"
   ]
  },
  {
   "cell_type": "code",
   "execution_count": null,
   "metadata": {
    "collapsed": true
   },
   "outputs": [],
   "source": [
    "from sklearn.svm import SVC\n",
    "clf_SVC = SVC().fit(X_train, y_train)\n",
    "print('Accuracy of SVC classifier on training set: {:.2f}'\n",
    "     .format(clf_SVC.score(X_train, y_train)))\n",
    "print('Accuracy of SVC classifier on test set: {:.2f}'\n",
    "     .format(clf_SVC.score(X_test, y_test)))"
   ]
  },
  {
   "cell_type": "markdown",
   "metadata": {},
   "source": [
    "DECISION TREE"
   ]
  },
  {
   "cell_type": "code",
   "execution_count": 171,
   "metadata": {},
   "outputs": [
    {
     "name": "stdout",
     "output_type": "stream",
     "text": [
      "Accuracy of Decision Tree classifier on training set: 1.00\n",
      "Accuracy of Decision Tree classifier on test set: 1.00\n"
     ]
    }
   ],
   "source": [
    "from sklearn.tree import DecisionTreeClassifier\n",
    "from adspy_shared_utilities import plot_decision_tree\n",
    "from sklearn.model_selection import train_test_split\n",
    "clf_dt = DecisionTreeClassifier().fit(X_train, y_train)\n",
    "\n",
    "print('Accuracy of Decision Tree classifier on training set: {:.2f}'\n",
    "     .format(clf_dt.score(X_train, y_train)))\n",
    "print('Accuracy of Decision Tree classifier on test set: {:.2f}'\n",
    "     .format(clf_dt.score(X_test, y_test)))"
   ]
  },
  {
   "cell_type": "markdown",
   "metadata": {},
   "source": [
    "NAIVE BAYES"
   ]
  },
  {
   "cell_type": "code",
   "execution_count": 10,
   "metadata": {},
   "outputs": [
    {
     "name": "stdout",
     "output_type": "stream",
     "text": [
      "Accuracy of Naive Bayes on training set: 0.993\n",
      "Accuracy of Naive Bayes on test set: 0.992\n"
     ]
    }
   ],
   "source": [
    "from sklearn.naive_bayes import GaussianNB\n",
    "\n",
    "clf_nb = GaussianNB()\n",
    "clf_nb.fit(X_train, y_train)\n",
    "print('Accuracy of Naive Bayes on training set: {:.3f}'.format(clf_nb.score(X_train,y_train)))\n",
    "print('Accuracy of Naive Bayes on test set: {:.3f}'.format(clf_nb.score(X_test,y_test)))\n"
   ]
  },
  {
   "cell_type": "markdown",
   "metadata": {
    "collapsed": true
   },
   "source": [
    "RANDOM FOREST"
   ]
  },
  {
   "cell_type": "code",
   "execution_count": 11,
   "metadata": {},
   "outputs": [
    {
     "name": "stdout",
     "output_type": "stream",
     "text": [
      "Accuracy of RF classifier on training set: 1.00\n",
      "Accuracy of RF classifier on test set: 1.00\n"
     ]
    }
   ],
   "source": [
    "from sklearn.ensemble import RandomForestClassifier\n",
    "\n",
    "clf_rf = RandomForestClassifier(max_features = 15, random_state = 0)\n",
    "clf_rf.fit(X_train, y_train)\n",
    "\n",
    "print('Accuracy of RF classifier on training set: {:.2f}'\n",
    "     .format(clf_rf.score(X_train, y_train)))\n",
    "print('Accuracy of RF classifier on test set: {:.2f}'\n",
    "     .format(clf_rf.score(X_test, y_test)))"
   ]
  },
  {
   "cell_type": "markdown",
   "metadata": {},
   "source": [
    "EVALUATION TECHNIQUES"
   ]
  },
  {
   "cell_type": "markdown",
   "metadata": {},
   "source": [
    "DUMMY CLASSIFIER"
   ]
  },
  {
   "cell_type": "code",
   "execution_count": 24,
   "metadata": {},
   "outputs": [
    {
     "data": {
      "text/plain": [
       "0.99827252043481929"
      ]
     },
     "execution_count": 24,
     "metadata": {},
     "output_type": "execute_result"
    }
   ],
   "source": [
    "from sklearn.dummy import DummyClassifier\n",
    "\n",
    "dummy_majority = DummyClassifier(strategy = 'most_frequent').fit(X_train, y_train)\n",
    "y_dummy_predictions = dummy_majority.predict(X_test)\n",
    "dummy_majority.score(X_test, y_test)"
   ]
  },
  {
   "cell_type": "code",
   "execution_count": 13,
   "metadata": {},
   "outputs": [
    {
     "name": "stdout",
     "output_type": "stream",
     "text": [
      "('Most frequent class (dummy classifier)\\n', array([[71079,     0],\n",
      "       [  123,     0]], dtype=int64))\n"
     ]
    }
   ],
   "source": [
    "from sklearn.metrics import confusion_matrix\n",
    "\n",
    "y_dummy = dummy_majority.predict(X_test)\n",
    "confusion = confusion_matrix(y_test, y_dummy)\n",
    "\n",
    "print('Most frequent class (dummy classifier)\\n', confusion)"
   ]
  },
  {
   "cell_type": "code",
   "execution_count": 14,
   "metadata": {},
   "outputs": [
    {
     "name": "stdout",
     "output_type": "stream",
     "text": [
      "('Most frequent class (k-NN)\\n', array([[71079,     0],\n",
      "       [  118,     5]], dtype=int64))\n"
     ]
    }
   ],
   "source": [
    "y_knn = knn.predict(X_test)\n",
    "confusion = confusion_matrix(y_test, y_knn)\n",
    "print('Most frequent class (k-NN)\\n', confusion)"
   ]
  },
  {
   "cell_type": "code",
   "execution_count": 57,
   "metadata": {},
   "outputs": [
    {
     "data": {
      "image/png": "[encoded data removed]",
      "text/plain": [
       "<matplotlib.figure.Figure at 0x13f626a0>"
      ]
     },
     "metadata": {},
     "output_type": "display_data"
    }
   ],
   "source": [
    "from sklearn.metrics import precision_recall_curve\n",
    "import numpy as np\n",
    "\n",
    "precision, recall, thresholds = precision_recall_curve(y_test, y_knn)\n",
    "closest_zero = np.argmin(np.abs(thresholds))\n",
    "closest_zero_p = precision[closest_zero]\n",
    "closest_zero_r = recall[closest_zero]\n",
    "\n",
    "plt.figure()\n",
    "plt.xlim([0.0, 1.01])\n",
    "plt.ylim([0.0, 1.01])\n",
    "plt.plot(precision, recall, label='Precision-Recall Curve')\n",
    "plt.plot(closest_zero_p, closest_zero_r, 'o', markersize = 12, fillstyle = 'none', c='r', mew=3)\n",
    "plt.xlabel('Precision', fontsize=16)\n",
    "plt.ylabel('Recall', fontsize=16)\n",
    "plt.axes().set_aspect('equal')\n",
    "plt.show()"
   ]
  },
  {
   "cell_type": "code",
   "execution_count": 16,
   "metadata": {},
   "outputs": [
    {
     "data": {
      "image/png": "[encoded data removed]",
      "text/plain": [
       "<matplotlib.figure.Figure at 0x13f0b0f0>"
      ]
     },
     "metadata": {},
     "output_type": "display_data"
    }
   ],
   "source": [
    "from sklearn.metrics import roc_curve, auc\n",
    "fpr_lr, tpr_lr, _ = roc_curve(y_test, y_knn)\n",
    "roc_auc_lr = auc(fpr_lr, tpr_lr)\n",
    "\n",
    "plt.figure()\n",
    "plt.xlim([-0.01, 1.00])\n",
    "plt.ylim([-0.01, 1.01])\n",
    "plt.plot(fpr_lr, tpr_lr, lw=3, label='LogRegr ROC curve (area = {:0.2f})'.format(roc_auc_lr))\n",
    "plt.xlabel('False Positive Rate', fontsize=16)\n",
    "plt.ylabel('True Positive Rate', fontsize=16)\n",
    "plt.title('ROC curve (1-of-10 digits classifier)', fontsize=16)\n",
    "plt.legend(loc='lower right', fontsize=13)\n",
    "plt.plot([0, 1], [0, 1], color='navy', lw=3, linestyle='--')\n",
    "plt.axes().set_aspect('equal')\n",
    "plt.show()"
   ]
  },
  {
   "cell_type": "code",
   "execution_count": 17,
   "metadata": {},
   "outputs": [
    {
     "name": "stdout",
     "output_type": "stream",
     "text": [
      "('Most frequent class (LOGIT)\\n', array([[71050,    29],\n",
      "       [   55,    68]], dtype=int64))\n"
     ]
    }
   ],
   "source": [
    "y_logit = clf_lr.predict(X_test)\n",
    "confusion = confusion_matrix(y_test, y_logit)\n",
    "print('Most frequent class (LOGIT)\\n', confusion)"
   ]
  },
  {
   "cell_type": "code",
   "execution_count": 59,
   "metadata": {},
   "outputs": [
    {
     "data": {
      "image/png": "[encoded data removed]",
      "text/plain": [
       "<matplotlib.figure.Figure at 0x2dfb77b8>"
      ]
     },
     "metadata": {},
     "output_type": "display_data"
    }
   ],
   "source": [
    "from sklearn.metrics import precision_recall_curve\n",
    "import numpy as np\n",
    "\n",
    "precision, recall, thresholds = precision_recall_curve(y_test, y_logit)\n",
    "closest_zero = np.argmin(np.abs(thresholds))\n",
    "closest_zero_p = precision[closest_zero]\n",
    "closest_zero_r = recall[closest_zero]\n",
    "\n",
    "plt.figure()\n",
    "plt.xlim([0.0, 1.01])\n",
    "plt.ylim([0.0, 1.01])\n",
    "plt.plot(precision, recall, label='Precision-Recall Curve')\n",
    "plt.plot(closest_zero_p, closest_zero_r, 'o', markersize = 12, fillstyle = 'none', c='r',mew=1)\n",
    "plt.xlabel('Precision', fontsize=16)\n",
    "plt.ylabel('Recall', fontsize=16)\n",
    "plt.axes().set_aspect('equal')\n",
    "plt.show()"
   ]
  },
  {
   "cell_type": "code",
   "execution_count": 19,
   "metadata": {},
   "outputs": [
    {
     "data": {
      "image/png": "[encoded data removed]",
      "text/plain": [
       "<matplotlib.figure.Figure at 0xba079b0>"
      ]
     },
     "metadata": {},
     "output_type": "display_data"
    }
   ],
   "source": [
    "from sklearn.metrics import roc_curve, auc\n",
    "fpr_lr, tpr_lr, _ = roc_curve(y_test, y_logit)\n",
    "roc_auc_lr = auc(fpr_lr, tpr_lr)\n",
    "\n",
    "plt.figure()\n",
    "plt.xlim([-0.01, 1.00])\n",
    "plt.ylim([-0.01, 1.01])\n",
    "plt.plot(fpr_lr, tpr_lr, lw=3, label='LogRegr ROC curve (area = {:0.2f})'.format(roc_auc_lr))\n",
    "plt.xlabel('False Positive Rate', fontsize=16)\n",
    "plt.ylabel('True Positive Rate', fontsize=16)\n",
    "plt.title('ROC curve (1-of-10 digits classifier)', fontsize=16)\n",
    "plt.legend(loc='lower right', fontsize=13)\n",
    "plt.plot([0, 1], [0, 1], color='navy', lw=3, linestyle='--')\n",
    "plt.axes().set_aspect('equal')\n",
    "plt.show()"
   ]
  },
  {
   "cell_type": "markdown",
   "metadata": {},
   "source": [
    "y_SVC_linear = clf_SVC_linear.predict(X_test)\n",
    "confusion = confusion_matrix(y_test, y_SVC_linear)\n",
    "print('Most frequent class (LOGIT)\\n', confusion)"
   ]
  },
  {
   "cell_type": "code",
   "execution_count": null,
   "metadata": {
    "collapsed": true
   },
   "outputs": [],
   "source": [
    "from sklearn.svm import SVC\n",
    "clf_SVC_linear = SVC(kernel = 'linear', C= 1.0).fit(X_train, y_train)\n",
    "print('Accuracy of SVC(Linear) classifier on training set: {:.2f}'\n",
    "     .format(clf_SVC_linear.score(X_train, y_train)))\n",
    "print('Accuracy of SVC(Linear) classifier on test set: {:.2f}'\n",
    "     .format(clf_SVC_linear.score(X_test, y_test)))\n"
   ]
  },
  {
   "cell_type": "code",
   "execution_count": null,
   "metadata": {
    "collapsed": true
   },
   "outputs": [],
   "source": [
    "from sklearn.svm import LinearSVC\n",
    "\n",
    "clf_SVC = LinearSVC(C= 1.0).fit(X_train, y_train)\n",
    "print('Accuracy of SVC classifier on training set: {:.2f}'\n",
    "     .format(clf_SVC.score(X_train, y_train)))\n",
    "print('Accuracy of SVC classifier on test set: {:.2f}'.format(clf_SVC.score(X_test, y_test)))from sklearn.svm import SVC\n"
   ]
  },
  {
   "cell_type": "code",
   "execution_count": null,
   "metadata": {
    "collapsed": true
   },
   "outputs": [],
   "source": [
    "from sklearn.svm import SVC\n",
    "clf = SVC(kernel='linear', C=1).fit(X_train, y_train)\n",
    "clf.score(X_test, y_test)"
   ]
  },
  {
   "cell_type": "markdown",
   "metadata": {},
   "source": [
    "The below code for kernel = rbf is taking too long to execute"
   ]
  },
  {
   "cell_type": "code",
   "execution_count": null,
   "metadata": {
    "collapsed": true
   },
   "outputs": [],
   "source": [
    "from sklearn.svm import SVC\n",
    "clf_SVC = SVC().fit(X_train, y_train)\n",
    "print('Accuracy of SVC classifier on training set: {:.2f}'\n",
    "     .format(clf_SVC.score(X_train, y_train)))\n",
    "print('Accuracy of SVC classifier on test set: {:.2f}'\n",
    "     .format(clf_SVC.score(X_test, y_test)))"
   ]
  },
  {
   "cell_type": "code",
   "execution_count": 22,
   "metadata": {},
   "outputs": [
    {
     "name": "stdout",
     "output_type": "stream",
     "text": [
      "('Most frequent class (Decision Tree)\\n', array([[71058,    21],\n",
      "       [   31,    92]], dtype=int64))\n"
     ]
    }
   ],
   "source": [
    "y_dt = clf_dt.predict(X_test)\n",
    "confusion = confusion_matrix(y_test, y_dt)\n",
    "print('Most frequent class (Decision Tree)\\n', confusion)"
   ]
  },
  {
   "cell_type": "code",
   "execution_count": 23,
   "metadata": {},
   "outputs": [
    {
     "data": {
      "image/png": "[encoded data removed]",
      "text/plain": [
       "<matplotlib.figure.Figure at 0xe193d30>"
      ]
     },
     "metadata": {},
     "output_type": "display_data"
    }
   ],
   "source": [
    "from sklearn.metrics import precision_recall_curve\n",
    "import numpy as np\n",
    "\n",
    "precision, recall, thresholds = precision_recall_curve(y_test, y_dt)\n",
    "closest_zero = np.argmin(np.abs(thresholds))\n",
    "closest_zero_p = precision[closest_zero]\n",
    "closest_zero_r = recall[closest_zero]\n",
    "\n",
    "plt.figure()\n",
    "plt.xlim([0.0, 1.01])\n",
    "plt.ylim([0.0, 1.01])\n",
    "plt.plot(precision, recall, label='Precision-Recall Curve')\n",
    "plt.plot(closest_zero_p, closest_zero_r, 'o', markersize = 12, fillstyle = 'none', c='r', mew=3)\n",
    "plt.xlabel('Precision', fontsize=16)\n",
    "plt.ylabel('Recall', fontsize=16)\n",
    "plt.axes().set_aspect('equal')\n",
    "plt.show()"
   ]
  },
  {
   "cell_type": "code",
   "execution_count": 66,
   "metadata": {},
   "outputs": [
    {
     "name": "stdout",
     "output_type": "stream",
     "text": [
      "0\n",
      "0.00172747956518\n",
      "1.0\n",
      "[ 0.00172748  0.90384615  1.        ]\n",
      "[ 1.          0.76422764  0.        ]\n",
      "[0 1]\n"
     ]
    }
   ],
   "source": [
    "from sklearn.metrics import precision_recall_curve\n",
    "import numpy as np\n",
    "\n",
    "precision, recall, thresholds = precision_recall_curve(y_test, y_dt)\n",
    "closest_zero = np.argmin(np.abs(thresholds))\n",
    "closest_zero_p = precision[closest_zero]\n",
    "closest_zero_r = recall[closest_zero]\n",
    "print(closest_zero)\n",
    "print(closest_zero_p)\n",
    "print(closest_zero_r)\n",
    "print(precision)\n",
    "print(recall)\n",
    "print(thresholds)\n",
    "\n"
   ]
  },
  {
   "cell_type": "code",
   "execution_count": 24,
   "metadata": {},
   "outputs": [
    {
     "data": {
      "image/png": "[encoded data removed]",
      "text/plain": [
       "<matplotlib.figure.Figure at 0x139549b0>"
      ]
     },
     "metadata": {},
     "output_type": "display_data"
    }
   ],
   "source": [
    "fpr_lr, tpr_lr, _ = roc_curve(y_test, y_dt)\n",
    "roc_auc_lr = auc(fpr_lr, tpr_lr)\n",
    "\n",
    "plt.figure()\n",
    "plt.xlim([-0.01, 1.00])\n",
    "plt.ylim([-0.01, 1.01])\n",
    "plt.plot(fpr_lr, tpr_lr, lw=3, label='LogRegr ROC curve (area = {:0.2f})'.format(roc_auc_lr))\n",
    "plt.xlabel('False Positive Rate', fontsize=16)\n",
    "plt.ylabel('True Positive Rate', fontsize=16)\n",
    "plt.title('ROC curve (1-of-10 digits classifier)', fontsize=16)\n",
    "plt.legend(loc='lower right', fontsize=13)\n",
    "plt.plot([0, 1], [0, 1], color='navy', lw=3, linestyle='--')\n",
    "plt.axes().set_aspect('equal')\n",
    "plt.show()"
   ]
  },
  {
   "cell_type": "code",
   "execution_count": 25,
   "metadata": {},
   "outputs": [
    {
     "name": "stdout",
     "output_type": "stream",
     "text": [
      "('Most frequent class (Naive Bayes) \\n', array([[70587,   492],\n",
      "       [   48,    75]], dtype=int64))\n"
     ]
    }
   ],
   "source": [
    "y_nb = clf_nb.predict(X_test)\n",
    "confusion = confusion_matrix(y_test, y_nb)\n",
    "print('Most frequent class (Naive Bayes) \\n', confusion)"
   ]
  },
  {
   "cell_type": "code",
   "execution_count": 68,
   "metadata": {},
   "outputs": [
    {
     "data": {
      "image/png": "[encoded data removed]",
      "text/plain": [
       "<matplotlib.figure.Figure at 0xe3c5898>"
      ]
     },
     "metadata": {},
     "output_type": "display_data"
    }
   ],
   "source": [
    "from sklearn.metrics import precision_recall_curve\n",
    "import numpy as np\n",
    "\n",
    "precision, recall, thresholds = precision_recall_curve(y_test, y_nb)\n",
    "closest_zero = np.argmin(np.abs(thresholds))\n",
    "closest_zero_p = precision[closest_zero]\n",
    "closest_zero_r = recall[closest_zero]\n",
    "\n",
    "plt.figure()\n",
    "plt.xlim([0.0, 1.01])\n",
    "plt.ylim([0.0, 1.01])\n",
    "plt.plot(precision, recall, label='Precision-Recall Curve')\n",
    "plt.plot(closest_zero_p, closest_zero_r, 'o', markersize = 12, fillstyle = 'none', c='r', mew=3)\n",
    "plt.xlabel('Precision', fontsize=16)\n",
    "plt.ylabel('Recall', fontsize=16)\n",
    "plt.axes().set_aspect('equal')\n",
    "plt.show()"
   ]
  },
  {
   "cell_type": "code",
   "execution_count": 27,
   "metadata": {},
   "outputs": [
    {
     "data": {
      "image/png": "[encoded data removed]",
      "text/plain": [
       "<matplotlib.figure.Figure at 0x1391ca20>"
      ]
     },
     "metadata": {},
     "output_type": "display_data"
    }
   ],
   "source": [
    "fpr_lr, tpr_lr, _ = roc_curve(y_test, y_nb)\n",
    "roc_auc_lr = auc(fpr_lr, tpr_lr)\n",
    "\n",
    "plt.figure()\n",
    "plt.xlim([-0.01, 1.00])\n",
    "plt.ylim([-0.01, 1.01])\n",
    "plt.plot(fpr_lr, tpr_lr, lw=3, label='LogRegr ROC curve (area = {:0.2f})'.format(roc_auc_lr))\n",
    "plt.xlabel('False Positive Rate', fontsize=16)\n",
    "plt.ylabel('True Positive Rate', fontsize=16)\n",
    "plt.title('ROC curve (1-of-10 digits classifier)', fontsize=16)\n",
    "plt.legend(loc='lower right', fontsize=13)\n",
    "plt.plot([0, 1], [0, 1], color='navy', lw=3, linestyle='--')\n",
    "plt.axes().set_aspect('equal')\n",
    "plt.show()"
   ]
  },
  {
   "cell_type": "code",
   "execution_count": 28,
   "metadata": {},
   "outputs": [
    {
     "name": "stdout",
     "output_type": "stream",
     "text": [
      "('Most frequent class (Random Forest)\\n', array([[71070,     9],\n",
      "       [   30,    93]], dtype=int64))\n"
     ]
    }
   ],
   "source": [
    "y_rf = clf_rf.predict(X_test)\n",
    "confusion = confusion_matrix(y_test, y_rf)\n",
    "print('Most frequent class (Random Forest)\\n', confusion)"
   ]
  },
  {
   "cell_type": "code",
   "execution_count": 29,
   "metadata": {},
   "outputs": [
    {
     "data": {
      "image/png": "[encoded data removed]",
      "text/plain": [
       "<matplotlib.figure.Figure at 0xe3bc400>"
      ]
     },
     "metadata": {},
     "output_type": "display_data"
    }
   ],
   "source": [
    "from sklearn.metrics import precision_recall_curve\n",
    "import numpy as np\n",
    "\n",
    "precision, recall, thresholds = precision_recall_curve(y_test, y_rf)\n",
    "closest_zero = np.argmin(np.abs(thresholds))\n",
    "closest_zero_p = precision[closest_zero]\n",
    "closest_zero_r = recall[closest_zero]\n",
    "\n",
    "plt.figure()\n",
    "plt.xlim([0.0, 1.01])\n",
    "plt.ylim([0.0, 1.01])\n",
    "plt.plot(precision, recall, label='Precision-Recall Curve')\n",
    "plt.plot(closest_zero_p, closest_zero_r, 'o', markersize = 12, fillstyle = 'none', c='r', mew=3)\n",
    "plt.xlabel('Precision', fontsize=16)\n",
    "plt.ylabel('Recall', fontsize=16)\n",
    "plt.axes().set_aspect('equal')\n",
    "plt.show()"
   ]
  },
  {
   "cell_type": "code",
   "execution_count": 30,
   "metadata": {},
   "outputs": [
    {
     "data": {
      "image/png": "[encoded data removed]",
      "text/plain": [
       "<matplotlib.figure.Figure at 0xbec42b0>"
      ]
     },
     "metadata": {},
     "output_type": "display_data"
    }
   ],
   "source": [
    "fpr_lr, tpr_lr, _ = roc_curve(y_test, y_rf)\n",
    "roc_auc_lr = auc(fpr_lr, tpr_lr)\n",
    "\n",
    "plt.figure()\n",
    "plt.xlim([-0.01, 1.00])\n",
    "plt.ylim([-0.01, 1.01])\n",
    "plt.plot(fpr_lr, tpr_lr, lw=3, label='LogRegr ROC curve (area = {:0.2f})'.format(roc_auc_lr))\n",
    "plt.xlabel('False Positive Rate', fontsize=16)\n",
    "plt.ylabel('True Positive Rate', fontsize=16)\n",
    "plt.title('ROC curve (1-of-10 digits classifier)', fontsize=16)\n",
    "plt.legend(loc='lower right', fontsize=13)\n",
    "plt.plot([0, 1], [0, 1], color='navy', lw=3, linestyle='--')\n",
    "plt.axes().set_aspect('equal')\n",
    "plt.show()"
   ]
  },
  {
   "cell_type": "code",
   "execution_count": 14,
   "metadata": {
    "scrolled": true
   },
   "outputs": [
    {
     "ename": "NameError",
     "evalue": "name 'y_dummy' is not defined",
     "output_type": "error",
     "traceback": [
      "\u001b[0;31m---------------------------------------------------------------------------\u001b[0m",
      "\u001b[0;31mNameError\u001b[0m                                 Traceback (most recent call last)",
      "\u001b[0;32m<ipython-input-14-ccad8d12b22a>\u001b[0m in \u001b[0;36m<module>\u001b[0;34m()\u001b[0m\n\u001b[1;32m      1\u001b[0m \u001b[0;32mfrom\u001b[0m \u001b[0msklearn\u001b[0m\u001b[0;34m.\u001b[0m\u001b[0mmetrics\u001b[0m \u001b[0;32mimport\u001b[0m \u001b[0mclassification_report\u001b[0m\u001b[0;34m\u001b[0m\u001b[0m\n\u001b[1;32m      2\u001b[0m print('Random class-proportional (dummy)\\n', \n\u001b[0;32m----> 3\u001b[0;31m       classification_report(y_test, y_dummy, target_names=['not 1', '1']))\n\u001b[0m\u001b[1;32m      4\u001b[0m print('k-NN\\n', \n\u001b[1;32m      5\u001b[0m       classification_report(y_test, y_knn, target_names = ['not 1', '1']))\n",
      "\u001b[0;31mNameError\u001b[0m: name 'y_dummy' is not defined"
     ]
    }
   ],
   "source": [
    "from sklearn.metrics import classification_report\n",
    "print('Random class-proportional (dummy)\\n', \n",
    "      classification_report(y_test, y_dummy, target_names=['not 1', '1']))\n",
    "print('k-NN\\n', \n",
    "      classification_report(y_test, y_knn, target_names = ['not 1', '1']))\n",
    "print('Logistic regression\\n', \n",
    "      classification_report(y_test, y_logit, target_names = ['not 1', '1']))\n",
    "print('Decision tree\\n', \n",
    "      classification_report(y_test, y_dt, target_names = ['not 1', '1']))\n",
    "print('Naive Bayes\\n', \n",
    "      classification_report(y_test, y_nb, target_names = ['not 1', '1']))\n",
    "print('Random Forest\\n', \n",
    "      classification_report(y_test, y_rf, target_names = ['not 1', '1']))"
   ]
  },
  {
   "cell_type": "markdown",
   "metadata": {},
   "source": [
    "Now since Decision Tree Classifier and Random Forest classifier gices us the best recall, we will run the model with different depths to check the change in False Negatives."
   ]
  },
  {
   "cell_type": "code",
   "execution_count": 17,
   "metadata": {},
   "outputs": [
    {
     "ename": "NameError",
     "evalue": "name 'confusion_matrix' is not defined",
     "output_type": "error",
     "traceback": [
      "\u001b[0;31m---------------------------------------------------------------------------\u001b[0m",
      "\u001b[0;31mNameError\u001b[0m                                 Traceback (most recent call last)",
      "\u001b[0;32m<ipython-input-17-b93712d6de86>\u001b[0m in \u001b[0;36m<module>\u001b[0;34m()\u001b[0m\n\u001b[1;32m      4\u001b[0m     \u001b[0mclf_dt\u001b[0m \u001b[0;34m=\u001b[0m \u001b[0mDecisionTreeClassifier\u001b[0m\u001b[0;34m(\u001b[0m\u001b[0mmax_depth\u001b[0m \u001b[0;34m=\u001b[0m \u001b[0mn\u001b[0m\u001b[0;34m)\u001b[0m\u001b[0;34m.\u001b[0m\u001b[0mfit\u001b[0m\u001b[0;34m(\u001b[0m\u001b[0mX_train\u001b[0m\u001b[0;34m,\u001b[0m \u001b[0my_train\u001b[0m\u001b[0;34m)\u001b[0m\u001b[0;34m\u001b[0m\u001b[0m\n\u001b[1;32m      5\u001b[0m     \u001b[0my_dt\u001b[0m \u001b[0;34m=\u001b[0m \u001b[0mclf_dt\u001b[0m\u001b[0;34m.\u001b[0m\u001b[0mpredict\u001b[0m\u001b[0;34m(\u001b[0m\u001b[0mX_test\u001b[0m\u001b[0;34m)\u001b[0m\u001b[0;34m\u001b[0m\u001b[0m\n\u001b[0;32m----> 6\u001b[0;31m     \u001b[0mtn\u001b[0m\u001b[0;34m,\u001b[0m \u001b[0mfp\u001b[0m\u001b[0;34m,\u001b[0m \u001b[0mfn\u001b[0m\u001b[0;34m,\u001b[0m \u001b[0mtp\u001b[0m \u001b[0;34m=\u001b[0m \u001b[0mconfusion_matrix\u001b[0m\u001b[0;34m(\u001b[0m\u001b[0my_test\u001b[0m\u001b[0;34m,\u001b[0m \u001b[0my_dt\u001b[0m\u001b[0;34m)\u001b[0m\u001b[0;34m.\u001b[0m\u001b[0mravel\u001b[0m\u001b[0;34m(\u001b[0m\u001b[0;34m)\u001b[0m\u001b[0;34m\u001b[0m\u001b[0m\n\u001b[0m\u001b[1;32m      7\u001b[0m     \u001b[0mprint\u001b[0m\u001b[0;34m(\u001b[0m\u001b[0;34m'Maximum Depth: {:.0f}'\u001b[0m\u001b[0;34m.\u001b[0m\u001b[0mformat\u001b[0m\u001b[0;34m(\u001b[0m\u001b[0mn\u001b[0m\u001b[0;34m)\u001b[0m\u001b[0;34m)\u001b[0m\u001b[0;34m\u001b[0m\u001b[0m\n\u001b[1;32m      8\u001b[0m     \u001b[0mprint\u001b[0m\u001b[0;34m(\u001b[0m\u001b[0;34m\"False Negative: {:.0f}\"\u001b[0m\u001b[0;34m.\u001b[0m\u001b[0mformat\u001b[0m\u001b[0;34m(\u001b[0m\u001b[0mfn\u001b[0m\u001b[0;34m)\u001b[0m\u001b[0;34m)\u001b[0m\u001b[0;34m\u001b[0m\u001b[0m\n",
      "\u001b[0;31mNameError\u001b[0m: name 'confusion_matrix' is not defined"
     ]
    }
   ],
   "source": [
    "from sklearn.metrics import roc_auc_score\n",
    "from sklearn.metrics import accuracy_score, precision_score, recall_score, f1_score\n",
    "for n in range (2,10):\n",
    "    clf_dt = DecisionTreeClassifier(max_depth = n).fit(X_train, y_train)\n",
    "    y_dt = clf_dt.predict(X_test)\n",
    "    tn, fp, fn, tp = confusion_matrix(y_test, y_dt).ravel()\n",
    "    print('Maximum Depth: {:.0f}'.format(n))\n",
    "    print(\"False Negative: {:.0f}\".format(fn))\n",
    "    print('True Positive: {:.0f}'.format(tp))\n",
    "    print('Decision tree\\n', \n",
    "      classification_report(y_test, y_dt, target_names = ['not 1', '1']))\n",
    "    auc_score_dt = roc_auc_score(y_test, y_dt, sample_weight=None)\n",
    "    print('Area under Curve: {:.2f}'.format(auc_score_dt))\n",
    "    print('-----------------------------------------')"
   ]
  },
  {
   "cell_type": "code",
   "execution_count": 33,
   "metadata": {},
   "outputs": [
    {
     "data": {
      "image/png": "[encoded data removed]",
      "text/plain": [
       "<matplotlib.figure.Figure at 0x13587b70>"
      ]
     },
     "metadata": {},
     "output_type": "display_data"
    }
   ],
   "source": [
    "from sklearn.metrics import precision_recall_curve\n",
    "import numpy as np\n",
    "\n",
    "precision, recall, thresholds = precision_recall_curve(y_test, y_knn)\n",
    "closest_zero = np.argmin(np.abs(thresholds))\n",
    "closest_zero_p = precision[closest_zero]\n",
    "closest_zero_r = recall[closest_zero]\n",
    "\n",
    "plt.figure()\n",
    "plt.xlim([0.0, 1.01])\n",
    "plt.ylim([0.0, 1.01])\n",
    "plt.plot(precision, recall, label='Precision-Recall Curve')\n",
    "plt.plot(closest_zero_p, closest_zero_r, 'o', markersize = 12, fillstyle = 'none', c='r', mew=3)\n",
    "plt.xlabel('Precision', fontsize=16)\n",
    "plt.ylabel('Recall', fontsize=16)\n",
    "plt.axes().set_aspect('equal')\n",
    "plt.show()"
   ]
  },
  {
   "cell_type": "code",
   "execution_count": 34,
   "metadata": {
    "scrolled": true
   },
   "outputs": [
    {
     "name": "stdout",
     "output_type": "stream",
     "text": [
      "Maximum Depth: 2\n",
      "False Negative: 39\n",
      "True Positive: 84\n",
      "('Decision tree\\n', u'             precision    recall  f1-score   support\\n\\n      not 1       1.00      1.00      1.00     71079\\n          1       0.90      0.76      0.83       123\\n\\navg / total       1.00      1.00      1.00     71202\\n')\n",
      "Area under Curve: 0.84\n",
      "-----------------------------------------\n",
      "Maximum Depth: 3\n",
      "False Negative: 34\n",
      "True Positive: 89\n",
      "('Decision tree\\n', u'             precision    recall  f1-score   support\\n\\n      not 1       1.00      1.00      1.00     71079\\n          1       0.90      0.76      0.83       123\\n\\navg / total       1.00      1.00      1.00     71202\\n')\n",
      "Area under Curve: 0.86\n",
      "-----------------------------------------\n",
      "Maximum Depth: 4\n",
      "False Negative: 40\n",
      "True Positive: 83\n",
      "('Decision tree\\n', u'             precision    recall  f1-score   support\\n\\n      not 1       1.00      1.00      1.00     71079\\n          1       0.90      0.76      0.83       123\\n\\navg / total       1.00      1.00      1.00     71202\\n')\n",
      "Area under Curve: 0.84\n",
      "-----------------------------------------\n",
      "Maximum Depth: 5\n",
      "False Negative: 32\n",
      "True Positive: 91\n",
      "('Decision tree\\n', u'             precision    recall  f1-score   support\\n\\n      not 1       1.00      1.00      1.00     71079\\n          1       0.90      0.76      0.83       123\\n\\navg / total       1.00      1.00      1.00     71202\\n')\n",
      "Area under Curve: 0.87\n",
      "-----------------------------------------\n",
      "Maximum Depth: 6\n",
      "False Negative: 37\n",
      "True Positive: 86\n",
      "('Decision tree\\n', u'             precision    recall  f1-score   support\\n\\n      not 1       1.00      1.00      1.00     71079\\n          1       0.90      0.76      0.83       123\\n\\navg / total       1.00      1.00      1.00     71202\\n')\n",
      "Area under Curve: 0.85\n",
      "-----------------------------------------\n",
      "Maximum Depth: 7\n",
      "False Negative: 33\n",
      "True Positive: 90\n",
      "('Decision tree\\n', u'             precision    recall  f1-score   support\\n\\n      not 1       1.00      1.00      1.00     71079\\n          1       0.90      0.76      0.83       123\\n\\navg / total       1.00      1.00      1.00     71202\\n')\n",
      "Area under Curve: 0.87\n",
      "-----------------------------------------\n",
      "Maximum Depth: 8\n",
      "False Negative: 35\n",
      "True Positive: 88\n",
      "('Decision tree\\n', u'             precision    recall  f1-score   support\\n\\n      not 1       1.00      1.00      1.00     71079\\n          1       0.90      0.76      0.83       123\\n\\navg / total       1.00      1.00      1.00     71202\\n')\n",
      "Area under Curve: 0.86\n",
      "-----------------------------------------\n",
      "Maximum Depth: 9\n",
      "False Negative: 30\n",
      "True Positive: 93\n",
      "('Decision tree\\n', u'             precision    recall  f1-score   support\\n\\n      not 1       1.00      1.00      1.00     71079\\n          1       0.90      0.76      0.83       123\\n\\navg / total       1.00      1.00      1.00     71202\\n')\n",
      "Area under Curve: 0.88\n",
      "-----------------------------------------\n",
      "Maximum Depth: 10\n",
      "False Negative: 34\n",
      "True Positive: 89\n",
      "('Decision tree\\n', u'             precision    recall  f1-score   support\\n\\n      not 1       1.00      1.00      1.00     71079\\n          1       0.90      0.76      0.83       123\\n\\navg / total       1.00      1.00      1.00     71202\\n')\n",
      "Area under Curve: 0.86\n",
      "-----------------------------------------\n",
      "Maximum Depth: 11\n",
      "False Negative: 31\n",
      "True Positive: 92\n",
      "('Decision tree\\n', u'             precision    recall  f1-score   support\\n\\n      not 1       1.00      1.00      1.00     71079\\n          1       0.90      0.76      0.83       123\\n\\navg / total       1.00      1.00      1.00     71202\\n')\n",
      "Area under Curve: 0.87\n",
      "-----------------------------------------\n",
      "Maximum Depth: 12\n",
      "False Negative: 33\n",
      "True Positive: 90\n",
      "('Decision tree\\n', u'             precision    recall  f1-score   support\\n\\n      not 1       1.00      1.00      1.00     71079\\n          1       0.90      0.76      0.83       123\\n\\navg / total       1.00      1.00      1.00     71202\\n')\n",
      "Area under Curve: 0.87\n",
      "-----------------------------------------\n",
      "Maximum Depth: 13\n",
      "False Negative: 32\n",
      "True Positive: 91\n",
      "('Decision tree\\n', u'             precision    recall  f1-score   support\\n\\n      not 1       1.00      1.00      1.00     71079\\n          1       0.90      0.76      0.83       123\\n\\navg / total       1.00      1.00      1.00     71202\\n')\n",
      "Area under Curve: 0.87\n",
      "-----------------------------------------\n",
      "Maximum Depth: 14\n",
      "False Negative: 33\n",
      "True Positive: 90\n",
      "('Decision tree\\n', u'             precision    recall  f1-score   support\\n\\n      not 1       1.00      1.00      1.00     71079\\n          1       0.90      0.76      0.83       123\\n\\navg / total       1.00      1.00      1.00     71202\\n')\n",
      "Area under Curve: 0.87\n",
      "-----------------------------------------\n"
     ]
    }
   ],
   "source": [
    "for n in range (2,15):\n",
    "    clf_rf = RandomForestClassifier(max_features = n, random_state = 0)\n",
    "    clf_rf.fit(X_train, y_train)\n",
    "    y_rf = clf_rf.predict(X_test)\n",
    "    tn, fp, fn, tp = confusion_matrix(y_test, y_rf).ravel()\n",
    "    print('Maximum Depth: {:.0f}'.format(n))\n",
    "    print(\"False Negative: {:.0f}\".format(fn))\n",
    "    print('True Positive: {:.0f}'.format(tp))\n",
    "    print('Decision tree\\n', \n",
    "      classification_report(y_test, y_dt, target_names = ['not 1', '1']))\n",
    "    auc_score_dt = roc_auc_score(y_test, y_rf, sample_weight=None)\n",
    "    print('Area under Curve: {:.2f}'.format(auc_score_dt))\n",
    "    print('-----------------------------------------')\n",
    "    \n",
    "    "
   ]
  },
  {
   "cell_type": "markdown",
   "metadata": {
    "collapsed": true
   },
   "source": [
    "ENSEMBLE BAGGING AND PASTING"
   ]
  },
  {
   "cell_type": "markdown",
   "metadata": {},
   "source": [
    "SINCE NAVIE BAYES, RANDOM FOREST AND DECISION TREE ARE GIVING THE HIGHEST RECALL, WE WILL USE THEM WITH VOTING CLASSIFIER"
   ]
  },
  {
   "cell_type": "markdown",
   "metadata": {},
   "source": [
    "HARD VOTING"
   ]
  },
  {
   "cell_type": "code",
   "execution_count": 139,
   "metadata": {},
   "outputs": [
    {
     "data": {
      "text/plain": [
       "VotingClassifier(estimators=[('nb', GaussianNB(priors=None)), ('rf', RandomForestClassifier(bootstrap=True, class_weight=None, criterion='gini',\n",
       "            max_depth=5, max_features='auto', max_leaf_nodes=None,\n",
       "            min_impurity_split=1e-07, min_samples_leaf=1,\n",
       "            min_samples_split=2, min_weight_fra...plit=2, min_weight_fraction_leaf=0.0,\n",
       "            presort=False, random_state=42, splitter='best'))],\n",
       "         n_jobs=1, voting='hard', weights=None)"
      ]
     },
     "execution_count": 139,
     "metadata": {},
     "output_type": "execute_result"
    }
   ],
   "source": [
    "from sklearn.ensemble import RandomForestClassifier\n",
    "from sklearn.ensemble import VotingClassifier\n",
    "from sklearn.naive_bayes import GaussianNB\n",
    "from sklearn.tree import DecisionTreeClassifier\n",
    "\n",
    "clf_nb = GaussianNB()\n",
    "clf_rf = RandomForestClassifier(random_state=42, max_depth =5)\n",
    "clf_dt = DecisionTreeClassifier(random_state =42, max_depth = 9)\n",
    "\n",
    "voting_clf = VotingClassifier(estimators=[('nb', clf_nb), ('rf', clf_rf), ('dt', clf_dt)], voting='hard')\n",
    "voting_clf.fit(X_train, y_train)"
   ]
  },
  {
   "cell_type": "code",
   "execution_count": 38,
   "metadata": {
    "collapsed": true
   },
   "outputs": [],
   "source": [
    "for clf in (clf_nb, clf_rf, clf_dt, voting_clf):\n",
    "    clf.fit(X_train, y_train)\n",
    "    y_voting = clf.predict(X_test)"
   ]
  },
  {
   "cell_type": "code",
   "execution_count": 39,
   "metadata": {
    "scrolled": true
   },
   "outputs": [
    {
     "name": "stdout",
     "output_type": "stream",
     "text": [
      "('Voting Classifier\\n', u'             precision    recall  f1-score   support\\n\\n      not 1       1.00      1.00      1.00     71079\\n          1       0.87      0.70      0.77       123\\n\\navg / total       1.00      1.00      1.00     71202\\n')\n",
      "Area under Curve: 0.85\n"
     ]
    }
   ],
   "source": [
    "print('Voting Classifier\\n', \n",
    "      classification_report(y_test, y_voting, target_names=['not 1', '1']))\n",
    "auc_score_dt = roc_auc_score(y_test, y_voting, sample_weight=None)\n",
    "print('Area under Curve: {:.2f}'.format(auc_score_dt))"
   ]
  },
  {
   "cell_type": "markdown",
   "metadata": {},
   "source": [
    "SOFT VOTING"
   ]
  },
  {
   "cell_type": "code",
   "execution_count": 40,
   "metadata": {},
   "outputs": [
    {
     "data": {
      "text/plain": [
       "VotingClassifier(estimators=[('nb', GaussianNB(priors=None)), ('rf', RandomForestClassifier(bootstrap=True, class_weight=None, criterion='gini',\n",
       "            max_depth=5, max_features='auto', max_leaf_nodes=None,\n",
       "            min_impurity_decrease=0.0, min_impurity_split=None,\n",
       "            min_samples_leaf=1, min_sampl...        min_weight_fraction_leaf=0.0, presort=False, random_state=42,\n",
       "            splitter='best'))],\n",
       "         flatten_transform=None, n_jobs=1, voting='soft', weights=None)"
      ]
     },
     "execution_count": 40,
     "metadata": {},
     "output_type": "execute_result"
    }
   ],
   "source": [
    "voting_clf = VotingClassifier(estimators=[('nb', clf_nb), ('rf', clf_rf), ('dt', clf_dt)], voting='soft')\n",
    "voting_clf.fit(X_train, y_train)"
   ]
  },
  {
   "cell_type": "code",
   "execution_count": 41,
   "metadata": {},
   "outputs": [
    {
     "name": "stdout",
     "output_type": "stream",
     "text": [
      "('GaussianNB', 0.99241594337237715)\n",
      "('RandomForestClassifier', 0.99933990618241064)\n",
      "('DecisionTreeClassifier', 0.9994522625768939)\n",
      "('VotingClassifier', 0.99932586163310022)\n"
     ]
    }
   ],
   "source": [
    "for clf in (clf_nb, clf_rf, clf_dt, voting_clf):\n",
    "    clf.fit(X_train, y_train)\n",
    "    y_softvoting = clf.predict(X_test)\n",
    "    print(clf.__class__.__name__, accuracy_score(y_test, y_softvoting))"
   ]
  },
  {
   "cell_type": "code",
   "execution_count": 42,
   "metadata": {},
   "outputs": [
    {
     "name": "stdout",
     "output_type": "stream",
     "text": [
      "('Voting Classifier\\n', u'             precision    recall  f1-score   support\\n\\n      not 1       1.00      1.00      1.00     71079\\n          1       0.87      0.72      0.79       123\\n\\navg / total       1.00      1.00      1.00     71202\\n')\n",
      "Area under Curve: 0.86\n"
     ]
    }
   ],
   "source": [
    "print('Voting Classifier\\n', \n",
    "      classification_report(y_test, y_softvoting, target_names=['not 1', '1']))\n",
    "auc_score_dt = roc_auc_score(y_test, y_softvoting, sample_weight=None)\n",
    "print('Area under Curve: {:.2f}'.format(auc_score_dt))"
   ]
  },
  {
   "cell_type": "markdown",
   "metadata": {},
   "source": [
    "BAGGING and PASTING"
   ]
  },
  {
   "cell_type": "code",
   "execution_count": 43,
   "metadata": {
    "collapsed": true
   },
   "outputs": [],
   "source": [
    "from sklearn.ensemble import BaggingClassifier\n",
    "\n",
    "bag_clf = BaggingClassifier(DecisionTreeClassifier(random_state=42, max_depth =5 ), n_estimators=50, max_samples=210000, bootstrap=True, n_jobs=-1, random_state=42)\n",
    "\n",
    "bag_clf.fit(X_train, y_train)\n",
    "y_bagging = bag_clf.predict(X_test)"
   ]
  },
  {
   "cell_type": "code",
   "execution_count": 44,
   "metadata": {},
   "outputs": [
    {
     "name": "stdout",
     "output_type": "stream",
     "text": [
      "('Bagging\\n', u'             precision    recall  f1-score   support\\n\\n      not 1       1.00      1.00      1.00     71079\\n          1       0.91      0.78      0.84       123\\n\\navg / total       1.00      1.00      1.00     71202\\n')\n",
      "Area under Curve: 0.89\n"
     ]
    }
   ],
   "source": [
    "print('Bagging\\n', \n",
    "      classification_report(y_test, y_bagging, target_names=['not 1', '1']))\n",
    "auc_score_dt = roc_auc_score(y_test, y_bagging, sample_weight=None)\n",
    "print('Area under Curve: {:.2f}'.format(auc_score_dt))"
   ]
  },
  {
   "cell_type": "code",
   "execution_count": 45,
   "metadata": {
    "collapsed": true
   },
   "outputs": [],
   "source": [
    "from sklearn.ensemble import BaggingClassifier\n",
    "\n",
    "bag_clf = BaggingClassifier(DecisionTreeClassifier(random_state=42, max_depth =5 ), n_estimators=50, max_samples=210000, bootstrap=False, n_jobs=-1, random_state=42)\n",
    "\n",
    "bag_clf.fit(X_train, y_train)\n",
    "y_pasting = bag_clf.predict(X_test)"
   ]
  },
  {
   "cell_type": "code",
   "execution_count": 46,
   "metadata": {},
   "outputs": [
    {
     "name": "stdout",
     "output_type": "stream",
     "text": [
      "('Pasting\\n', u'             precision    recall  f1-score   support\\n\\n      not 1       1.00      1.00      1.00     71079\\n          1       0.90      0.78      0.83       123\\n\\navg / total       1.00      1.00      1.00     71202\\n')\n",
      "Area under Curve: 0.89\n"
     ]
    }
   ],
   "source": [
    "print('Pasting\\n', \n",
    "      classification_report(y_test, y_pasting, target_names=['not 1', '1']))\n",
    "auc_score_dt = roc_auc_score(y_test, y_pasting, sample_weight=None)\n",
    "print('Area under Curve: {:.2f}'.format(auc_score_dt))"
   ]
  },
  {
   "cell_type": "markdown",
   "metadata": {},
   "source": [
    "Adding Boosting to the Bagging classifier"
   ]
  },
  {
   "cell_type": "code",
   "execution_count": 183,
   "metadata": {},
   "outputs": [
    {
     "name": "stdout",
     "output_type": "stream",
     "text": [
      "0.998918569703\n"
     ]
    }
   ],
   "source": [
    "from sklearn.ensemble import AdaBoostClassifier\n",
    "\n",
    "ada_clf = AdaBoostClassifier(\n",
    "    DecisionTreeClassifier(max_depth=1), n_estimators=200,\n",
    "    algorithm=\"SAMME.R\", learning_rate=0.01, random_state=42)\n",
    "ada_clf.fit(X_train, y_train)\n",
    "y_pred_ab = ada_clf.predict(X_test)\n",
    "print(accuracy_score(y_test, y_pred_ab))"
   ]
  },
  {
   "cell_type": "code",
   "execution_count": 184,
   "metadata": {},
   "outputs": [
    {
     "name": "stdout",
     "output_type": "stream",
     "text": [
      "ADA Boosting\n",
      "              precision    recall  f1-score   support\n",
      "\n",
      "      not 1       1.00      1.00      1.00     71079\n",
      "          1       0.83      0.47      0.60       123\n",
      "\n",
      "avg / total       1.00      1.00      1.00     71202\n",
      "\n",
      "Area under Curve: 0.74\n"
     ]
    }
   ],
   "source": [
    "print('ADA Boosting\\n', \n",
    "      classification_report(y_test, y_pred_ab, target_names=['not 1', '1']))\n",
    "auc_score_dt = roc_auc_score(y_test, y_pred_ab, sample_weight=None)\n",
    "print('Area under Curve: {:.2f}'.format(auc_score_dt))"
   ]
  },
  {
   "cell_type": "code",
   "execution_count": 12,
   "metadata": {},
   "outputs": [
    {
     "name": "stdout",
     "output_type": "stream",
     "text": [
      "Accuracy of GBDT classifier on training set: 1.00\n",
      "Accuracy of GBDT classifier on test set: 1.00\n",
      "\n"
     ]
    }
   ],
   "source": [
    "from sklearn.ensemble import GradientBoostingClassifier\n",
    "clf = GradientBoostingClassifier(learning_rate = 0.01, max_depth = 2, random_state = 0)\n",
    "clf.fit(X_train, y_train)\n",
    "print('Accuracy of GBDT classifier on training set: {:.2f}'\n",
    "     .format(clf.score(X_train, y_train)))\n",
    "print('Accuracy of GBDT classifier on test set: {:.2f}\\n'\n",
    "     .format(clf.score(X_test, y_test)))"
   ]
  },
  {
   "cell_type": "code",
   "execution_count": 27,
   "metadata": {},
   "outputs": [
    {
     "name": "stdout",
     "output_type": "stream",
     "text": [
      "Boosting\n",
      "              precision    recall  f1-score   support\n",
      "\n",
      "      not 1       1.00      1.00      1.00     71079\n",
      "          1       0.83      0.64      0.72       123\n",
      "\n",
      "avg / total       1.00      1.00      1.00     71202\n",
      "\n",
      "Area under Curve: 0.82\n"
     ]
    }
   ],
   "source": [
    "y_boosting = clf.predict(X_test)\n",
    "print('Boosting\\n', \n",
    "      classification_report(y_test, y_boosting, target_names=['not 1', '1']))\n",
    "auc_score_dt = roc_auc_score(y_test, y_boosting, sample_weight=None)\n",
    "print('Area under Curve: {:.2f}'.format(auc_score_dt))"
   ]
  },
  {
   "cell_type": "markdown",
   "metadata": {},
   "source": [
    "**Dimension Reduction by PCA**"
   ]
  },
  {
   "cell_type": "code",
   "execution_count": 142,
   "metadata": {},
   "outputs": [],
   "source": [
    "X_pca = X.values\n"
   ]
  },
  {
   "cell_type": "code",
   "execution_count": 143,
   "metadata": {},
   "outputs": [],
   "source": [
    "from sklearn.preprocessing import scale\n",
    "X_pca = scale(X_pca)"
   ]
  },
  {
   "cell_type": "code",
   "execution_count": 144,
   "metadata": {},
   "outputs": [
    {
     "data": {
      "text/plain": [
       "PCA(copy=True, iterated_power='auto', n_components=30, random_state=None,\n",
       "  svd_solver='auto', tol=0.0, whiten=False)"
      ]
     },
     "execution_count": 144,
     "metadata": {},
     "output_type": "execute_result"
    }
   ],
   "source": [
    "from sklearn.decomposition import PCA\n",
    "pca = PCA(n_components=30)\n",
    "\n",
    "pca.fit(X_pca)"
   ]
  },
  {
   "cell_type": "code",
   "execution_count": 145,
   "metadata": {},
   "outputs": [],
   "source": [
    "var= pca.explained_variance_ratio_"
   ]
  },
  {
   "cell_type": "code",
   "execution_count": 127,
   "metadata": {},
   "outputs": [
    {
     "data": {
      "text/plain": [
       "array([ 0.06527521,  0.05612313,  0.03333333,  0.03333333,  0.03333333,\n",
       "        0.03333333,  0.03333333,  0.03333333,  0.03333333,  0.03333333,\n",
       "        0.03333333,  0.03333333,  0.03333333,  0.03333333,  0.03333333,\n",
       "        0.03333333,  0.03333333,  0.03333333,  0.03333333,  0.03333333,\n",
       "        0.03333333,  0.03333333,  0.03333333,  0.03333333,  0.03333333,\n",
       "        0.03333333,  0.03333333,  0.03333333,  0.01052982,  0.00140516])"
      ]
     },
     "execution_count": 127,
     "metadata": {},
     "output_type": "execute_result"
    }
   ],
   "source": [
    "var"
   ]
  },
  {
   "cell_type": "code",
   "execution_count": 128,
   "metadata": {
    "collapsed": true
   },
   "outputs": [],
   "source": [
    "var1=np.cumsum(np.round(pca.explained_variance_ratio_, decimals=4)*100)"
   ]
  },
  {
   "cell_type": "code",
   "execution_count": 129,
   "metadata": {},
   "outputs": [
    {
     "data": {
      "text/plain": [
       "array([  6.53,  12.14,  15.47,  18.8 ,  22.13,  25.46,  28.79,  32.12,\n",
       "        35.45,  38.78,  42.11,  45.44,  48.77,  52.1 ,  55.43,  58.76,\n",
       "        62.09,  65.42,  68.75,  72.08,  75.41,  78.74,  82.07,  85.4 ,\n",
       "        88.73,  92.06,  95.39,  98.72,  99.77,  99.91])"
      ]
     },
     "execution_count": 129,
     "metadata": {},
     "output_type": "execute_result"
    }
   ],
   "source": [
    "var1"
   ]
  },
  {
   "cell_type": "code",
   "execution_count": 130,
   "metadata": {},
   "outputs": [
    {
     "data": {
      "text/plain": [
       "[<matplotlib.lines.Line2D at 0x11e16a9e8>]"
      ]
     },
     "execution_count": 130,
     "metadata": {},
     "output_type": "execute_result"
    }
   ],
   "source": [
    "plt.plot(var1)"
   ]
  },
  {
   "cell_type": "code",
   "execution_count": 131,
   "metadata": {},
   "outputs": [
    {
     "data": {
      "image/png": "[encoded data removed]",
      "text/plain": [
       "<matplotlib.figure.Figure at 0x11e5badd8>"
      ]
     },
     "metadata": {},
     "output_type": "display_data"
    }
   ],
   "source": [
    "plt.show()"
   ]
  },
  {
   "cell_type": "code",
   "execution_count": 156,
   "metadata": {
    "scrolled": true
   },
   "outputs": [
    {
     "name": "stdout",
     "output_type": "stream",
     "text": [
      "[[ 0.41663045 -2.53266428 -0.73416262 ..., -0.22884142 -0.17544226\n",
      "   0.28949991]\n",
      " [-0.39345348 -2.0773255  -0.48830255 ..., -0.28543176  0.10871542\n",
      "   0.2271435 ]\n",
      " [ 1.86852545 -2.53349699 -0.14923372 ...,  2.25576794  0.53281386\n",
      "  -1.7044035 ]\n",
      " ..., \n",
      " [-0.19406338  2.07078798 -0.02118364 ...,  0.53157552  1.16498636\n",
      "   1.17567553]\n",
      " [-0.46608925  1.22539363 -0.24627381 ..., -1.96111715 -1.85536823\n",
      "   1.41841125]\n",
      " [ 0.76759651  1.90590292  0.09723241 ...,  0.63717347  0.52992947\n",
      "  -0.77768249]]\n"
     ]
    }
   ],
   "source": [
    "#Looking at above plot- taking 27 variables\n",
    "pca = PCA(n_components=20)\n",
    "X1_pca=pca.fit_transform(X_pca)\n",
    "\n",
    "print(X1_pca)"
   ]
  },
  {
   "cell_type": "code",
   "execution_count": 157,
   "metadata": {},
   "outputs": [],
   "source": [
    "X2_pca = pd.DataFrame(X1_pca)"
   ]
  },
  {
   "cell_type": "code",
   "execution_count": 158,
   "metadata": {
    "collapsed": true
   },
   "outputs": [],
   "source": [
    "X_train, X_test, y_train, y_test = train_test_split(X2_pca, y, stratify = y , random_state = 0)"
   ]
  },
  {
   "cell_type": "code",
   "execution_count": 159,
   "metadata": {},
   "outputs": [],
   "source": [
    "#AUC for reduced model with Bagging Classifier\n",
    "\n",
    "from sklearn.ensemble import BaggingClassifier\n",
    "\n",
    "bag_clf = BaggingClassifier(DecisionTreeClassifier(random_state=42, max_depth =5 ), n_estimators=50, max_samples=210000, bootstrap=False, n_jobs=-1, random_state=42)\n",
    "\n",
    "bag_clf.fit(X_train, y_train)\n",
    "y_pasting = bag_clf.predict(X_test)"
   ]
  },
  {
   "cell_type": "code",
   "execution_count": 160,
   "metadata": {},
   "outputs": [
    {
     "name": "stdout",
     "output_type": "stream",
     "text": [
      "Pasting\n",
      "              precision    recall  f1-score   support\n",
      "\n",
      "      not 1       1.00      1.00      1.00     71079\n",
      "          1       0.93      0.64      0.76       123\n",
      "\n",
      "avg / total       1.00      1.00      1.00     71202\n",
      "\n",
      "Area under Curve: 0.82\n"
     ]
    }
   ],
   "source": [
    "print('Pasting\\n', \n",
    "      classification_report(y_test, y_pasting, target_names=['not 1', '1']))\n",
    "auc_score_dt = roc_auc_score(y_test, y_pasting, sample_weight=None)\n",
    "print('Area under Curve: {:.2f}'.format(auc_score_dt))"
   ]
  },
  {
   "cell_type": "code",
   "execution_count": 151,
   "metadata": {},
   "outputs": [
    {
     "data": {
      "text/plain": [
       "VotingClassifier(estimators=[('nb', GaussianNB(priors=None)), ('rf', RandomForestClassifier(bootstrap=True, class_weight=None, criterion='gini',\n",
       "            max_depth=5, max_features='auto', max_leaf_nodes=None,\n",
       "            min_impurity_split=1e-07, min_samples_leaf=1,\n",
       "            min_samples_split=2, min_weight_fra...plit=2, min_weight_fraction_leaf=0.0,\n",
       "            presort=False, random_state=42, splitter='best'))],\n",
       "         n_jobs=1, voting='soft', weights=None)"
      ]
     },
     "execution_count": 151,
     "metadata": {},
     "output_type": "execute_result"
    }
   ],
   "source": [
    "voting_clf = VotingClassifier(estimators=[('nb', clf_nb), ('rf', clf_rf), ('dt', clf_dt)], voting='soft')\n",
    "voting_clf.fit(X_train, y_train)"
   ]
  },
  {
   "cell_type": "code",
   "execution_count": 161,
   "metadata": {},
   "outputs": [
    {
     "name": "stdout",
     "output_type": "stream",
     "text": [
      "GaussianNB 0.980927502036\n",
      "RandomForestClassifier 0.999087104295\n",
      "DecisionTreeClassifier 0.999171371591\n",
      "VotingClassifier 0.999129237943\n"
     ]
    }
   ],
   "source": [
    "#accuracy for reduced dimensions model\n",
    "\n",
    "for clf in (clf_nb, clf_rf, clf_dt, voting_clf):\n",
    "    clf.fit(X_train, y_train)\n",
    "    y_softvoting = clf.predict(X_test)\n",
    "    print(clf.__class__.__name__, accuracy_score(y_test, y_softvoting))"
   ]
  },
  {
   "cell_type": "code",
   "execution_count": 162,
   "metadata": {},
   "outputs": [],
   "source": [
    "from sklearn.ensemble import BaggingClassifier\n",
    "from sklearn.tree import DecisionTreeClassifier\n",
    "\n",
    "bag_clf = BaggingClassifier(DecisionTreeClassifier(random_state=42), n_estimators=500, max_samples=100, bootstrap=True, n_jobs=-1, random_state=42)\n",
    "\n",
    "bag_clf.fit(X_train, y_train)\n",
    "y_pred = bag_clf.predict(X_test)"
   ]
  },
  {
   "cell_type": "code",
   "execution_count": 163,
   "metadata": {},
   "outputs": [
    {
     "name": "stdout",
     "output_type": "stream",
     "text": [
      "0.998272520435\n"
     ]
    }
   ],
   "source": [
    "from sklearn.metrics import accuracy_score\n",
    "print(accuracy_score(y_test, y_pred))"
   ]
  },
  {
   "cell_type": "code",
   "execution_count": null,
   "metadata": {
    "collapsed": true
   },
   "outputs": [],
   "source": []
  }
 ],
 "metadata": {
  "kernelspec": {
   "display_name": "Python 3",
   "language": "python",
   "name": "python3"
  },
  "language_info": {
   "codemirror_mode": {
    "name": "ipython",
    "version": 3
   },
   "file_extension": ".py",
   "mimetype": "text/x-python",
   "name": "python",
   "nbconvert_exporter": "python",
   "pygments_lexer": "ipython3",
   "version": "3.6.1"
  }
 },
 "nbformat": 4,
 "nbformat_minor": 2
}
