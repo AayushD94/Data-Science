{
 "cells": [
  {
   "cell_type": "code",
   "execution_count": 7,
   "metadata": {
    "collapsed": true
   },
   "outputs": [],
   "source": [
    "# minutes_since_midnight function uses an epoch of midnight and.. \n",
    "# calculates the minutes since midnight from the military time. \n",
    "def minutes_since_midnight(militaryTime):\n",
    "# if the militaryTime is 600, zfill(4) updates it to 0600. Helps in calculating minutes since midnight.     \n",
    "    militaryTime = militaryTime.zfill(4)\n",
    "    hours = int(militaryTime[0:2])\n",
    "    minutes = int(militaryTime[2:4])\n",
    "    return  hours*60 + minutes"
   ]
  },
  {
   "cell_type": "code",
   "execution_count": 8,
   "metadata": {
    "collapsed": true
   },
   "outputs": [],
   "source": [
    "# minimum_departure_time is a function which is used to...\n",
    "# check the minimum time the tail has to stay on gate before taking another flight.\n",
    "def minimum_departure_time(airport1,airport2):\n",
    "    if airport1 == 'AUS' and airport2 == 'DAL':\n",
    "        minimum_departure_time = 50 + 30 \n",
    "    elif airport1 == 'AUS' and airport2 == 'HOU':\n",
    "        minimum_departure_time = 45 + 35\n",
    "    elif airport1 == 'DAL' and airport2 == 'HOU':\n",
    "        minimum_departure_time = 65 + 35\n",
    "    return minimum_departure_time"
   ]
  },
  {
   "cell_type": "code",
   "execution_count": 9,
   "metadata": {
    "collapsed": true
   },
   "outputs": [],
   "source": [
    "# flight_time is a function that calculates the flight duration between airport1 and airport2.\n",
    "def flight_time(airport1,airport2):\n",
    "    if airport1 == 'AUS' and airport2 == 'DAL':\n",
    "        flightTime = 50\n",
    "    elif airport1 == 'DAL' and airport2 == 'AUS':\n",
    "        flightTime = 50\n",
    "    elif airport1 == 'AUS' and airport2 == 'HOU':\n",
    "        flightTime = 45\n",
    "    elif airport1 == 'HOU' and airport2 == 'AUS':\n",
    "        flightTime = 45\n",
    "    elif airport1 == 'DAL' and airport2 == 'HOU':\n",
    "        flightTime = 65\n",
    "    elif airport1 == 'HOU' and airport2 == 'DAL':\n",
    "        flightTime = 65 \n",
    "    return flightTime          "
   ]
  },
  {
   "cell_type": "code",
   "execution_count": 10,
   "metadata": {
    "collapsed": true
   },
   "outputs": [],
   "source": [
    "# military_time is a function that takes minutes_until_midnight as a parameter and returns the time in military format.\n",
    "def military_time(minutes_until_midnight):\n",
    "    minutes_until_midnight =str(minutes_until_midnight)\n",
    "# if the time is 411 zfill(4) updates it to 0411. This will help in calculating hours and minutes.\n",
    "    minutes_until_midnight =minutes_until_midnight.zfill(4)\n",
    "    minutes_until_midnight = int(minutes_until_midnight)\n",
    "    hours = minutes_until_midnight // 60\n",
    "    minutes = minutes_until_midnight % 60\n",
    "    hours = str(hours)\n",
    "    hours_final = hours.zfill(2)\n",
    "    minutes = str(minutes)\n",
    "    minutes_final = minutes.zfill(2)\n",
    "    military_time = hours_final + minutes_final\n",
    "    return military_time"
   ]
  },
  {
   "cell_type": "code",
   "execution_count": 11,
   "metadata": {
    "collapsed": true
   },
   "outputs": [],
   "source": [
    "# This function changes a number to a formula so that excel does not trim the initial zeroes. \n",
    "def string_formatting(string):\n",
    "    string = \"=\\\"\" + string + \"\\\"\"\n",
    "    return string    "
   ]
  },
  {
   "cell_type": "code",
   "execution_count": 12,
   "metadata": {
    "collapsed": true
   },
   "outputs": [],
   "source": [
    "import csv\n",
    "#Assiginig tails and airports to a list.\n",
    "tail = ['T1','T2','T3','T4','T5','T6']\n",
    "airport = ['AUS','DAL','HOU']\n",
    "# morning will be set to 6am.\n",
    "morning = minutes_since_midnight('0600')\n",
    "#night will be set to 10pm\n",
    "night = minutes_since_midnight('2200')\n",
    "schedule = []\n",
    "# ->Using for loop, tail1 and tail2 will keep on flying from their origin and destination as long as they.. \n",
    "# depart after 6am and land before 10pm.\n",
    "# ->night-flight_time(airport[0],airport[2]) is used.. \n",
    "# to make sure that a flight does not depart from origin which lands after 10pm.\n",
    "# ->arrival_time uses the flight_time function to calculate the time at which plane arrives.\n",
    "for departure_time in range(morning,night-flight_time(airport[0],airport[2]),\n",
    "                            minimum_departure_time(airport[0],airport[2])):\n",
    "    arrival_time = departure_time + flight_time(airport[0],airport[2])\n",
    "# Each feasible flight gets added to the schedule.    \n",
    "    schedule.append([tail[0],airport[0],airport[2],departure_time,arrival_time])\n",
    "    schedule.append([tail[1],airport[2],airport[0],departure_time,arrival_time])\n",
    "# After the each flight tail1 and tail2 needs to be swapped since their origin and destination have interchanged.    \n",
    "    tail[0], tail[1] = tail[1],tail[0]\n",
    "# Similar logic for tail3 and tail4    \n",
    "for departure_time in range(morning,night-flight_time(airport[1],airport[2]),\n",
    "                            minimum_departure_time(airport[1],airport[2])):\n",
    "    arrival_time = departure_time + flight_time(airport[1],airport[2])\n",
    "    schedule.append([tail[2],airport[1],airport[2],departure_time,arrival_time])\n",
    "    schedule.append([tail[3],airport[2],airport[1],departure_time,arrival_time])\n",
    "    tail[2], tail[3] = tail[3],tail[2]\n",
    "# Similar logic for tail5 and tail6    \n",
    "for departure_time in range(morning,night-flight_time(airport[1],airport[2]),\n",
    "                            minimum_departure_time(airport[1],airport[2])):\n",
    "    arrival_time = departure_time + flight_time(airport[1],airport[2])\n",
    "    schedule.append([tail[4],airport[1],airport[2],departure_time,arrival_time])\n",
    "    schedule.append([tail[5],airport[2],airport[1],departure_time,arrival_time])\n",
    "    tail[4], tail[5] = tail[5],tail[4]   \n",
    "schedule_details = [['tail_number','origin','destination','departure_time','arrival_time']]\n",
    "unsortedlist = schedule\n",
    "# sort function helps to sort the list by tail number.\n",
    "unsortedlist.sort(key = lambda x:x[0])\n",
    "mt_departure = []\n",
    "mt_arrival = []\n",
    "# for loop converts the minutes_since_midnight to military_time in the schedule.\n",
    "for s in unsortedlist:\n",
    "    mt_departure.append(military_time(s[3]))\n",
    "    mt_arrival.append(military_time(s[4]))    \n",
    "# updates the minutes_since_midnight to military_time in the schedule.\n",
    "i = 0\n",
    "for s in unsortedlist:\n",
    "    s[3] = mt_departure[i]\n",
    "    s[4] = mt_arrival[i]\n",
    "    i = i+1\n",
    "final_schedule = schedule_details + unsortedlist\n",
    "# calls the string_formatting function to keep the initial zeroes in arrival and departure time. \n",
    "for k in range(1, len(final_schedule)):\n",
    "    final_schedule[k][3] = string_formatting(final_schedule[k][3])\n",
    "    final_schedule[k][4] = string_formatting(final_schedule[k][4])\n",
    "# writes the schedule to a flight_schedule.csv file.\n",
    "with open(\"flight_schedule.csv\",\"w\",newline ='') as f:\n",
    "    writer = csv.writer(f)\n",
    "    writer.writerows(final_schedule)"
   ]
  },
  {
   "cell_type": "code",
   "execution_count": null,
   "metadata": {
    "collapsed": true
   },
   "outputs": [],
   "source": []
  }
 ],
 "metadata": {
  "kernelspec": {
   "display_name": "Python 3",
   "language": "python",
   "name": "python3"
  },
  "language_info": {
   "codemirror_mode": {
    "name": "ipython",
    "version": 3
   },
   "file_extension": ".py",
   "mimetype": "text/x-python",
   "name": "python",
   "nbconvert_exporter": "python",
   "pygments_lexer": "ipython3",
   "version": "3.6.1"
  }
 },
 "nbformat": 4,
 "nbformat_minor": 2
}
