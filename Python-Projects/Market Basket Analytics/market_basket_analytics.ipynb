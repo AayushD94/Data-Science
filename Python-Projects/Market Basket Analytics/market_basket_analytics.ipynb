{
 "cells": [
  {
   "cell_type": "code",
   "execution_count": 196,
   "metadata": {
    "collapsed": true
   },
   "outputs": [],
   "source": [
    "import pandas as pd"
   ]
  },
  {
   "cell_type": "markdown",
   "metadata": {},
   "source": [
    "pd.read_table will read the text file in a table format."
   ]
  },
  {
   "cell_type": "code",
   "execution_count": 197,
   "metadata": {
    "collapsed": true
   },
   "outputs": [],
   "source": [
    "purchase_history = pd.read_table(\"http://kevincrook.com/utd/market_basket_training.txt\", header = None)"
   ]
  },
  {
   "cell_type": "markdown",
   "metadata": {},
   "source": [
    "Now, we will remove the order ID from the training data"
   ]
  },
  {
   "cell_type": "code",
   "execution_count": 198,
   "metadata": {
    "collapsed": true
   },
   "outputs": [],
   "source": [
    "products_purchased = []\n",
    "for i in range(0, len(purchase_history)):\n",
    "    products_purchased.append(purchase_history[0][i][ 8:])"
   ]
  },
  {
   "cell_type": "markdown",
   "metadata": {},
   "source": [
    "Counter will count the number of unique orders"
   ]
  },
  {
   "cell_type": "code",
   "execution_count": 199,
   "metadata": {
    "collapsed": true
   },
   "outputs": [],
   "source": [
    "from collections import Counter\n",
    "c = Counter(products_purchased)"
   ]
  },
  {
   "cell_type": "markdown",
   "metadata": {},
   "source": [
    "Counter returns order ID as keys and their count as values. We will convert the order ID to list."
   ]
  },
  {
   "cell_type": "code",
   "execution_count": 200,
   "metadata": {
    "collapsed": true
   },
   "outputs": [],
   "source": [
    "list1 = list(c.keys())"
   ]
  },
  {
   "cell_type": "markdown",
   "metadata": {},
   "source": [
    "We will separate the order ID for individual products"
   ]
  },
  {
   "cell_type": "code",
   "execution_count": 201,
   "metadata": {
    "collapsed": true
   },
   "outputs": [],
   "source": [
    "list2 = []\n",
    "for i in range(0 , len(list1)):\n",
    "    list2.append(list1[i].split(','))"
   ]
  },
  {
   "cell_type": "markdown",
   "metadata": {},
   "source": [
    "Convert the count of unique orders to a list"
   ]
  },
  {
   "cell_type": "code",
   "execution_count": 202,
   "metadata": {
    "collapsed": true
   },
   "outputs": [],
   "source": [
    "list3 = list(c.values())"
   ]
  },
  {
   "cell_type": "markdown",
   "metadata": {},
   "source": [
    "Join the separated order IDs and count and convert it to a list."
   ]
  },
  {
   "cell_type": "code",
   "execution_count": 203,
   "metadata": {
    "collapsed": true
   },
   "outputs": [],
   "source": [
    "zipped = zip(list2, list3)"
   ]
  },
  {
   "cell_type": "code",
   "execution_count": 204,
   "metadata": {
    "collapsed": true
   },
   "outputs": [],
   "source": [
    "products_count = list(zipped)"
   ]
  },
  {
   "cell_type": "markdown",
   "metadata": {},
   "source": [
    "Read the test data into a table and do the same data preaparation we did on training dataset."
   ]
  },
  {
   "cell_type": "code",
   "execution_count": 205,
   "metadata": {
    "collapsed": true
   },
   "outputs": [],
   "source": [
    "test_data = pd.read_table(\"http://kevincrook.com/utd/market_basket_test.txt\", header = None)"
   ]
  },
  {
   "cell_type": "code",
   "execution_count": 206,
   "metadata": {
    "collapsed": true
   },
   "outputs": [],
   "source": [
    "cart = []\n",
    "for i in range(0, len(test_data)):\n",
    "    cart.append(test_data[0][i][ 4:])"
   ]
  },
  {
   "cell_type": "code",
   "execution_count": 207,
   "metadata": {
    "collapsed": true
   },
   "outputs": [],
   "source": [
    "cart2 = []\n",
    "for i in range(0 , len(cart)):\n",
    "    cart2.append(cart[i].split(','))"
   ]
  },
  {
   "cell_type": "markdown",
   "metadata": {},
   "source": [
    "We will get all the unique products that are sold in the past and all the products that are in the cart(test dataset).  Then in the new_items variable we will get the list of products that have not ben bought previously."
   ]
  },
  {
   "cell_type": "code",
   "execution_count": 208,
   "metadata": {},
   "outputs": [],
   "source": [
    "products_sold = []\n",
    "for i in range(0, len(products_count)):\n",
    "    products_sold.extend(products_count[i][0])\n",
    "products_sold = set(products_sold) "
   ]
  },
  {
   "cell_type": "code",
   "execution_count": 209,
   "metadata": {},
   "outputs": [],
   "source": [
    "cart_products = []\n",
    "for i in range(0, len(cart2)):\n",
    "    cart_products.extend(cart2[i])\n",
    "cart_products = set(cart_products)   "
   ]
  },
  {
   "cell_type": "code",
   "execution_count": 210,
   "metadata": {},
   "outputs": [],
   "source": [
    "new_items = list(cart_products - products_sold)"
   ]
  },
  {
   "cell_type": "markdown",
   "metadata": {},
   "source": [
    "We will remove the products that have not been bought previously."
   ]
  },
  {
   "cell_type": "code",
   "execution_count": 211,
   "metadata": {
    "collapsed": true
   },
   "outputs": [],
   "source": [
    "for i in range (0, len(new_items)):\n",
    "    for j in range (0, len(cart2)):\n",
    "        if new_items[i] in cart2[j]:\n",
    "            cart2[j].remove(new_items[i])    "
   ]
  },
  {
   "cell_type": "markdown",
   "metadata": {},
   "source": [
    "For each product in the test dataset, we will count the item that was bought the most frequently with."
   ]
  },
  {
   "cell_type": "code",
   "execution_count": 212,
   "metadata": {},
   "outputs": [],
   "source": [
    "max_count = []\n",
    "for i in range (0,len(cart2)):\n",
    "    records = []\n",
    "    for j in range(0,len(products_count)):\n",
    "        if len(products_count[j][0]) == len(cart2[i]) + 1 and set(cart2[i]) < set(products_count[j][0]):\n",
    "            records.append(products_count[j])   \n",
    "    max_count.append(max(records, key = lambda x:x[1]))"
   ]
  },
  {
   "cell_type": "markdown",
   "metadata": {},
   "source": [
    "max_count has the list of products that are most frequently bought with in the past. Now we will create a list of recommended products for each record in the test dataset."
   ]
  },
  {
   "cell_type": "code",
   "execution_count": 213,
   "metadata": {},
   "outputs": [],
   "source": [
    "recommended_product = []\n",
    "for i in range (0, len(max_count)):\n",
    "    recommended_product.extend(set(max_count[i][0]) - set(cart2[i]))  "
   ]
  },
  {
   "cell_type": "code",
   "execution_count": 214,
   "metadata": {},
   "outputs": [],
   "source": [
    "index = []\n",
    "for i in range(0, len(test_data)):\n",
    "    index.append(test_data[0][i][ :4])"
   ]
  },
  {
   "cell_type": "markdown",
   "metadata": {},
   "source": [
    "write the recommendation to the market_basekt_recommendation text file with index"
   ]
  },
  {
   "cell_type": "code",
   "execution_count": 215,
   "metadata": {},
   "outputs": [],
   "source": [
    "with open(\"market_basket_recommendations.txt\", \"w\", encoding = 'utf-8') as output:\n",
    "    for i in range (0 , len(recommended_product)):\n",
    "        output.write(index[i] + recommended_product[i] + \"\\n\")"
   ]
  },
  {
   "cell_type": "code",
   "execution_count": null,
   "metadata": {
    "collapsed": true
   },
   "outputs": [],
   "source": []
  },
  {
   "cell_type": "code",
   "execution_count": null,
   "metadata": {
    "collapsed": true
   },
   "outputs": [],
   "source": []
  }
 ],
 "metadata": {
  "kernelspec": {
   "display_name": "Python 3",
   "language": "python",
   "name": "python3"
  },
  "language_info": {
   "codemirror_mode": {
    "name": "ipython",
    "version": 3
   },
   "file_extension": ".py",
   "mimetype": "text/x-python",
   "name": "python",
   "nbconvert_exporter": "python",
   "pygments_lexer": "ipython3",
   "version": "3.6.1"
  }
 },
 "nbformat": 4,
 "nbformat_minor": 2
}
