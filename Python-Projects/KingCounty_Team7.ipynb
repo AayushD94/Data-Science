{
 "cells": [
  {
   "cell_type": "markdown",
   "metadata": {},
   "source": [
    "PART 1"
   ]
  },
  {
   "cell_type": "code",
   "execution_count": 1,
   "metadata": {
    "collapsed": true
   },
   "outputs": [],
   "source": [
    "import warnings\n",
    "warnings.filterwarnings(\"ignore\")\n",
    "\n",
    "import pandas as pd\n",
    "train = pd.read_csv('home_price.csv')"
   ]
  },
  {
   "cell_type": "code",
   "execution_count": 2,
   "metadata": {
    "collapsed": true
   },
   "outputs": [],
   "source": [
    "#Converted sqft_basement to binary\n",
    "import numpy as np\n",
    "threshold = 0\n",
    "train['sqft_basement'] = np.where(train['sqft_basement'] > threshold, 1,0)"
   ]
  },
  {
   "cell_type": "code",
   "execution_count": 3,
   "metadata": {
    "collapsed": true
   },
   "outputs": [],
   "source": [
    "y = train['price'].copy()   "
   ]
  },
  {
   "cell_type": "code",
   "execution_count": 4,
   "metadata": {
    "collapsed": true
   },
   "outputs": [],
   "source": [
    "X = train[['bedrooms','bathrooms','floors','waterfront','view','condition','grade', \\\n",
    "          'sqft_basement','sqft_living15','sqft_lot15']].copy()"
   ]
  },
  {
   "cell_type": "markdown",
   "metadata": {},
   "source": [
    "Variables to scale \n",
    "bedrooms, bathrooms, sqft_living, sqft_lot, floors,view,condition,grade,sqft_basement"
   ]
  },
  {
   "cell_type": "code",
   "execution_count": 5,
   "metadata": {
    "collapsed": true
   },
   "outputs": [],
   "source": [
    "from sklearn.model_selection import train_test_split\n",
    "X_train, X_test, y_train ,  y_test = train_test_split(X , y , random_state = 0)"
   ]
  },
  {
   "cell_type": "code",
   "execution_count": 6,
   "metadata": {
    "collapsed": true
   },
   "outputs": [],
   "source": [
    "from sklearn.preprocessing import MinMaxScaler\n",
    "scaler = MinMaxScaler()\n",
    "X_train_scaled = scaler.fit_transform(X_train)\n",
    "X_test_scaled = scaler.transform(X_test)\n"
   ]
  },
  {
   "cell_type": "markdown",
   "metadata": {},
   "source": [
    "Calculation of regression coefficients"
   ]
  },
  {
   "cell_type": "code",
   "execution_count": 7,
   "metadata": {},
   "outputs": [
    {
     "name": "stdout",
     "output_type": "stream",
     "text": [
      "linear model coeff (w): [  183315.321068     309163.22917866     7510.8550867    671049.6927399\n",
      "   262981.94327524   248469.59546604  1655582.94963907    68079.56234602\n",
      "   542942.18545319  -238454.77618105]\n",
      "linear model intercept (b): -823789.520\n",
      "R-squared score (training): 0.566\n",
      "R-squared score (test): 0.548\n"
     ]
    }
   ],
   "source": [
    "from sklearn.linear_model import LinearRegression\n",
    "linreg = LinearRegression()\n",
    "linreg.fit(X_train_scaled, y_train)\n",
    "print('linear model coeff (w): {}'\n",
    "     .format(linreg.coef_))\n",
    "print('linear model intercept (b): {:.3f}'\n",
    "     .format(linreg.intercept_))\n",
    "print('R-squared score (training): {:.3f}'\n",
    "     .format(linreg.score(X_train_scaled, y_train)))\n",
    "print('R-squared score (test): {:.3f}'\n",
    "     .format(linreg.score(X_test_scaled, y_test)))"
   ]
  },
  {
   "cell_type": "markdown",
   "metadata": {},
   "source": [
    "As you can see except sqft_lot15, all the variables have a postive correlation with the price of the houses. Hence we can interpret that with an increase of a unit in sqft_lot15, house price decreses by 238454 units."
   ]
  },
  {
   "cell_type": "code",
   "execution_count": 8,
   "metadata": {
    "collapsed": true
   },
   "outputs": [],
   "source": [
    "train_predicted = linreg.predict(X_train_scaled)\n",
    "test_predicted = linreg.predict(X_test_scaled)"
   ]
  },
  {
   "cell_type": "markdown",
   "metadata": {},
   "source": [
    "Calculation of residual sum of squares"
   ]
  },
  {
   "cell_type": "code",
   "execution_count": 9,
   "metadata": {
    "collapsed": true
   },
   "outputs": [],
   "source": [
    "import numpy as np\n",
    "RSS_train = np.sum((y_train - train_predicted) ** 2)\n",
    "RSS_test = np.sum((y_test - test_predicted) ** 2)"
   ]
  },
  {
   "cell_type": "code",
   "execution_count": 10,
   "metadata": {},
   "outputs": [
    {
     "name": "stdout",
     "output_type": "stream",
     "text": [
      "RSS_train: 951975013866098\n",
      "RSS_test: 324319932134703\n"
     ]
    }
   ],
   "source": [
    "print (\"RSS_train: {:.0f}\".format(RSS_train))\n",
    "print (\"RSS_test: {:.0f}\".format(RSS_test))"
   ]
  },
  {
   "cell_type": "markdown",
   "metadata": {},
   "source": [
    "PART 2 & 3\n"
   ]
  },
  {
   "cell_type": "markdown",
   "metadata": {},
   "source": [
    "We will use different subsets i.e different set of features to check the effect on score of Linear Regression"
   ]
  },
  {
   "cell_type": "markdown",
   "metadata": {},
   "source": [
    "Colums used for this poly fit are :\n",
    "'bedrooms','bathrooms','floors','waterfront','view','condition','grade', \\\n",
    "'sqft_basement','zipcode','sqft_living15','sqft_lot15'\n",
    "\n",
    "FIRST SUBSET\n"
   ]
  },
  {
   "cell_type": "code",
   "execution_count": 11,
   "metadata": {
    "collapsed": true
   },
   "outputs": [],
   "source": [
    "X_truncated = X[ : 10000]\n",
    "y_truncated = y[ : 10000]"
   ]
  },
  {
   "cell_type": "markdown",
   "metadata": {},
   "source": [
    "We will check polynomial feature for different degrees and select the best option from it. Since this procedure increases computational complexity, we have truncated the dataset to 10,000 rows."
   ]
  },
  {
   "cell_type": "code",
   "execution_count": 12,
   "metadata": {},
   "outputs": [
    {
     "name": "stdout",
     "output_type": "stream",
     "text": [
      "Degree: 1\n",
      "R-squared score (training): 0.547\n",
      "R-squared score (test): 0.540\n",
      "\n",
      "Degree: 2\n",
      "R-squared score (training): 0.698\n",
      "R-squared score (test): 0.603\n",
      "\n",
      "Degree: 3\n",
      "R-squared score (training): 0.715\n",
      "R-squared score (test): -0.002\n",
      "\n",
      "Degree: 4\n",
      "R-squared score (training): 0.642\n",
      "R-squared score (test): -1.664\n",
      "\n"
     ]
    },
    {
     "data": {
      "image/png": "[encoded data removed]",
      "text/plain": [
       "<matplotlib.figure.Figure at 0x116ca1908>"
      ]
     },
     "metadata": {},
     "output_type": "display_data"
    }
   ],
   "source": [
    "from sklearn.preprocessing import PolynomialFeatures\n",
    "import matplotlib.pyplot as plt\n",
    "training_score = []\n",
    "test_score = []\n",
    "degree = []\n",
    "for n in range (1,5):\n",
    "    poly = PolynomialFeatures(n)\n",
    "    X_poly = poly.fit_transform(X_truncated)\n",
    "    X_train, X_test, y_train, y_test = train_test_split(X_poly, y_truncated,\n",
    "                                                   random_state = 0)\n",
    "    linreg = LinearRegression().fit(X_train, y_train)\n",
    "    print('Degree: {:.0f}'.format(n))\n",
    "    print('R-squared score (training): {:.3f}'\n",
    "     .format(linreg.score(X_train, y_train)))\n",
    "    print('R-squared score (test): {:.3f}\\n'\n",
    "     .format(linreg.score(X_test, y_test)))\n",
    "    training_score.append(linreg.score(X_train, y_train))\n",
    "    test_score.append(linreg.score(X_test, y_test))\n",
    "    degree.append(n)\n",
    "\n",
    "plt.plot(degree,training_score, 'r--', degree, test_score,'-')\n",
    "plt.title('Comparison of scores for different polynomial degree')\n",
    "plt.xlabel('Polynomial Degree')\n",
    "plt.ylabel('Score')\n",
    "plt.show()\n",
    "    \n"
   ]
  },
  {
   "cell_type": "markdown",
   "metadata": {},
   "source": [
    "Colums used for this poly fit are :\n",
    "'bedrooms','bathrooms','floors','waterfront','view','condition','grade', \\\n",
    "'sqft_basement','zipcode','sqft_living','sqft_lot'\n",
    "\n",
    "SECOND SUBSET"
   ]
  },
  {
   "cell_type": "code",
   "execution_count": 13,
   "metadata": {
    "collapsed": true
   },
   "outputs": [],
   "source": [
    "X1 = train[['bedrooms','bathrooms','floors','waterfront','view','condition','grade', \\\n",
    "          'sqft_basement','zipcode','sqft_living','sqft_lot']].copy()\n",
    "y1 = train['price'].copy()   "
   ]
  },
  {
   "cell_type": "code",
   "execution_count": 14,
   "metadata": {
    "collapsed": true
   },
   "outputs": [],
   "source": [
    "X_truncated = X1[ : 10000]\n",
    "y_truncated = y1[ : 10000]"
   ]
  },
  {
   "cell_type": "code",
   "execution_count": 15,
   "metadata": {},
   "outputs": [
    {
     "name": "stdout",
     "output_type": "stream",
     "text": [
      "Degree: 1\n",
      "R-squared score (training): 0.614\n",
      "R-squared score (test): 0.564\n",
      "\n",
      "Degree: 2\n",
      "R-squared score (training): 0.734\n",
      "R-squared score (test): 0.645\n",
      "\n",
      "Degree: 3\n",
      "R-squared score (training): 0.736\n",
      "R-squared score (test): 0.577\n",
      "\n",
      "Degree: 4\n",
      "R-squared score (training): 0.765\n",
      "R-squared score (test): 0.346\n",
      "\n"
     ]
    },
    {
     "data": {
      "image/png": "[encoded data removed]",
      "text/plain": [
       "<matplotlib.figure.Figure at 0x116514d68>"
      ]
     },
     "metadata": {},
     "output_type": "display_data"
    }
   ],
   "source": [
    "training_score2 = []\n",
    "test_score2 = []\n",
    "degree2 = []\n",
    "for n in range (1,5):\n",
    "    poly = PolynomialFeatures(n)\n",
    "    X_poly = poly.fit_transform(X_truncated)\n",
    "    X_train, X_test, y_train, y_test = train_test_split(X_poly, y_truncated,\n",
    "                                                   random_state = 0)\n",
    "    linreg = LinearRegression().fit(X_train, y_train)\n",
    "    print('Degree: {:.0f}'.format(n))\n",
    "    print('R-squared score (training): {:.3f}'\n",
    "     .format(linreg.score(X_train, y_train)))\n",
    "    print('R-squared score (test): {:.3f}\\n'\n",
    "     .format(linreg.score(X_test, y_test)))\n",
    "    training_score2.append(linreg.score(X_train, y_train))\n",
    "    test_score2.append(linreg.score(X_test, y_test))\n",
    "    degree2.append(n)\n",
    "    \n",
    "plt.plot(degree2,training_score2, 'r--', degree2, test_score2,'-')\n",
    "plt.title('Comparison of scores for different polynomial degree')\n",
    "plt.xlabel('Polynomial Degree')\n",
    "plt.ylabel('Score')\n",
    "plt.show()"
   ]
  },
  {
   "cell_type": "markdown",
   "metadata": {},
   "source": [
    "Columns used for this poly fit are :\n",
    "'bedrooms','bathrooms','floors','waterfront','view','condition','grade', \\\n",
    " 'sqft_basement','lat','long','sqft_living','sqft_lot'\n",
    " \n",
    " THIRD SUBSET"
   ]
  },
  {
   "cell_type": "code",
   "execution_count": 16,
   "metadata": {
    "collapsed": true
   },
   "outputs": [],
   "source": [
    "X2 = train[['bedrooms','bathrooms','floors','waterfront','view','condition','grade', \\\n",
    "          'sqft_basement','lat','long','sqft_living','sqft_lot','yr_built']].copy()\n",
    "y2 = train['price'].copy() "
   ]
  },
  {
   "cell_type": "code",
   "execution_count": 17,
   "metadata": {
    "collapsed": true
   },
   "outputs": [],
   "source": [
    "X_truncated = X2[ : 10000]\n",
    "y_truncated = y2[ : 10000]"
   ]
  },
  {
   "cell_type": "code",
   "execution_count": 18,
   "metadata": {},
   "outputs": [
    {
     "name": "stdout",
     "output_type": "stream",
     "text": [
      "Degree: 1\n",
      "R-squared score (training): 0.696\n",
      "R-squared score (test): 0.660\n",
      "\n",
      "Degree: 2\n",
      "R-squared score (training): 0.825\n",
      "R-squared score (test): 0.748\n",
      "\n",
      "Degree: 3\n",
      "R-squared score (training): 0.854\n",
      "R-squared score (test): 0.696\n",
      "\n",
      "Degree: 4\n",
      "R-squared score (training): 0.796\n",
      "R-squared score (test): -0.094\n",
      "\n"
     ]
    },
    {
     "data": {
      "image/png": "[encoded data removed]",
      "text/plain": [
       "<matplotlib.figure.Figure at 0x11673b4e0>"
      ]
     },
     "metadata": {},
     "output_type": "display_data"
    }
   ],
   "source": [
    "training_score = []\n",
    "test_score = []\n",
    "degree = []\n",
    "for n in range (1,5):\n",
    "    poly = PolynomialFeatures(n)\n",
    "    X_poly = poly.fit_transform(X_truncated)\n",
    "    X_train, X_test, y_train, y_test = train_test_split(X_poly, y_truncated,\n",
    "                                                   random_state = 0)\n",
    "    linreg = LinearRegression().fit(X_train, y_train)\n",
    "    print('Degree: {:.0f}'.format(n))\n",
    "    print('R-squared score (training): {:.3f}'\n",
    "     .format(linreg.score(X_train, y_train)))\n",
    "    print('R-squared score (test): {:.3f}\\n'\n",
    "     .format(linreg.score(X_test, y_test)))\n",
    "    training_score.append(linreg.score(X_train, y_train))\n",
    "    test_score.append(linreg.score(X_test, y_test))\n",
    "    degree.append(n)\n",
    "    \n",
    "plt.plot(degree,training_score, 'r--', degree, test_score,'-')\n",
    "plt.title('Comparison of scores for different polynomial degree')\n",
    "plt.xlabel('Polynomial Degree')\n",
    "plt.ylabel('Score')\n",
    "plt.show()"
   ]
  },
  {
   "cell_type": "markdown",
   "metadata": {},
   "source": [
    "From 3 different subsets, data labelled X2 and y2 give the best R-squared score for training and test data, hence we will go forward with 3rd subset of data."
   ]
  },
  {
   "cell_type": "markdown",
   "metadata": {},
   "source": [
    "We get the best R-squared score with degree = 2 in all the three subsets of data. Hence we will apply polynomial on the entire dataset with degree =2."
   ]
  },
  {
   "cell_type": "markdown",
   "metadata": {},
   "source": [
    "We will also add Zip code to the dataset using hot encoding."
   ]
  },
  {
   "cell_type": "markdown",
   "metadata": {},
   "source": [
    "FINAL SELECTION \n",
    "1.) Polynomial degree (n = 2)\n",
    "2.) train data: X2, test data: y2"
   ]
  },
  {
   "cell_type": "code",
   "execution_count": 19,
   "metadata": {
    "collapsed": true
   },
   "outputs": [],
   "source": [
    "X2 = train[['bedrooms','bathrooms','floors','waterfront','view','condition','grade', \\\n",
    "          'sqft_basement','zipcode','lat','long','sqft_living','sqft_lot']].copy()\n",
    "y2 = train['price'].copy() "
   ]
  },
  {
   "cell_type": "markdown",
   "metadata": {},
   "source": [
    "Now that we have decided the polynomial degree and the features to be used, we will add the zipcode to the dataset and also use the entire dataset."
   ]
  },
  {
   "cell_type": "markdown",
   "metadata": {},
   "source": [
    "We will convert the zip code to dummy variables using LabelBinarizer"
   ]
  },
  {
   "cell_type": "code",
   "execution_count": 20,
   "metadata": {},
   "outputs": [
    {
     "data": {
      "text/plain": [
       "array([[0, 0, 0, ..., 0, 0, 0],\n",
       "       [0, 0, 0, ..., 0, 0, 0],\n",
       "       [0, 0, 0, ..., 0, 0, 0],\n",
       "       ..., \n",
       "       [0, 0, 0, ..., 0, 0, 0],\n",
       "       [0, 0, 0, ..., 0, 0, 0],\n",
       "       [0, 0, 0, ..., 0, 0, 0]])"
      ]
     },
     "execution_count": 20,
     "metadata": {},
     "output_type": "execute_result"
    }
   ],
   "source": [
    "from sklearn.preprocessing import LabelBinarizer\n",
    "encoder = LabelBinarizer()\n",
    "zip_1hot = encoder.fit_transform(X2['zipcode'])\n",
    "zip_1hot"
   ]
  },
  {
   "cell_type": "code",
   "execution_count": 22,
   "metadata": {},
   "outputs": [],
   "source": [
    "test = pd.DataFrame(zip_1hot)\n",
    "X_final = pd.concat([X2, test], axis = 1 , join_axes = [X2.index])\n",
    "#result = pd.concat([df1, df4], axis=1, join_axes=[df1.index])"
   ]
  },
  {
   "cell_type": "markdown",
   "metadata": {},
   "source": [
    "Final model fit for Part 2"
   ]
  },
  {
   "cell_type": "code",
   "execution_count": 23,
   "metadata": {},
   "outputs": [
    {
     "name": "stdout",
     "output_type": "stream",
     "text": [
      "Degree: 2\n",
      "R-squared score (training): 0.921\n",
      "R-squared score (test): 0.896\n",
      "\n"
     ]
    }
   ],
   "source": [
    "    degree = 2\n",
    "    poly = PolynomialFeatures(degree)\n",
    "    X_poly = poly.fit_transform(X_final)\n",
    "    X_train, X_test, y_train, y_test = train_test_split(X_poly, y2,random_state = 0)\n",
    "    linreg = LinearRegression().fit(X_train, y_train)\n",
    "    print('Degree: {:.0f}'.format(degree))\n",
    "    print('R-squared score (training): {:.3f}'\n",
    "     .format(linreg.score(X_train, y_train)))\n",
    "    print('R-squared score (test): {:.3f}\\n'\n",
    "     .format(linreg.score(X_test, y_test)))    "
   ]
  },
  {
   "cell_type": "markdown",
   "metadata": {},
   "source": [
    "Now we will apply Lasso on the transformed dataset for different values of alpha."
   ]
  },
  {
   "cell_type": "code",
   "execution_count": 51,
   "metadata": {},
   "outputs": [
    {
     "name": "stdout",
     "output_type": "stream",
     "text": [
      "Lasso regression: effect of alpha regularization\n",
      "parameter on number of features kept in final model\n",
      "\n",
      "Alpha = 0.01\n",
      "Features kept: 1109, r-squared training: 0.9104712, r-squared test: 0.8839561\n",
      "\n",
      "Alpha = 0.10\n",
      "Features kept: 1107, r-squared training: 0.9104705, r-squared test: 0.8844573\n",
      "\n",
      "Alpha = 50.00\n",
      "Features kept: 566, r-squared training: 0.9059456, r-squared test: 0.8908380\n",
      "\n",
      "Alpha = 150.00\n",
      "Features kept: 364, r-squared training: 0.9002504, r-squared test: 0.8914478\n",
      "\n",
      "Alpha = 200.00\n",
      "Features kept: 329, r-squared training: 0.8988368, r-squared test: 0.8911046\n",
      "\n",
      "Alpha = 500.00\n",
      "Features kept: 282, r-squared training: 0.8944345, r-squared test: 0.8886840\n",
      "\n"
     ]
    },
    {
     "data": {
      "image/png": "[encoded data removed]",
      "text/plain": [
       "<matplotlib.figure.Figure at 0x11c701198>"
      ]
     },
     "metadata": {},
     "output_type": "display_data"
    }
   ],
   "source": [
    "from sklearn.linear_model import Lasso\n",
    "print('Lasso regression: effect of alpha regularization\\n\\\n",
    "parameter on number of features kept in final model\\n')\n",
    "\n",
    "training_score=[]\n",
    "test_score=[]\n",
    "degree=[]\n",
    "for alpha in [0.1, 50,150,200,500]:\n",
    "    linlasso = Lasso(alpha).fit(X_train, y_train)\n",
    "    r2_train = linlasso.score(X_train, y_train)\n",
    "    r2_test = linlasso.score(X_test, y_test)\n",
    "    degree.append(alpha)\n",
    "    training_score.append(r2_train)\n",
    "    test_score.append(r2_test)\n",
    "    \n",
    "    print('Alpha = {:.2f}\\nFeatures kept: {}, r-squared training: {:.7f}, \\\n",
    "r-squared test: {:.7f}\\n'\n",
    "         .format(alpha, np.sum(linlasso.coef_ != 0), r2_train, r2_test))\n",
    "    \n",
    "plt.plot(degree,training_score, 'r--', degree, test_score,'-')\n",
    "plt.title('Comparison of scores for different alpha values')\n",
    "plt.xlabel('Alpha for Lasso Regression')\n",
    "plt.ylabel('R Score')\n",
    "plt.show()"
   ]
  },
  {
   "cell_type": "markdown",
   "metadata": {},
   "source": [
    "Alpha = 150 gives us the least features with optimum r-squared scores for training and test. Hence we will use alpha = 150 to retrieve the significant features."
   ]
  },
  {
   "cell_type": "code",
   "execution_count": 50,
   "metadata": {},
   "outputs": [
    {
     "name": "stdout",
     "output_type": "stream",
     "text": [
      "Non-zero features: 364\n",
      "R-squared score (training): 0.900\n",
      "R-squared score (test): 0.891\n",
      "\n",
      "LIST OF SIGNIFICANT FEATURES:\n",
      "\tsqft_basement, 57543.314\n",
      "\tbathrooms, 17496.151\n",
      "\tlat, -1025.972\n",
      "\tsqft_lot, 196.321\n"
     ]
    }
   ],
   "source": [
    "from sklearn.linear_model import Lasso\n",
    "from sklearn.preprocessing import MinMaxScaler\n",
    "scaler = MinMaxScaler()\n",
    "\n",
    "#X_train_scaled = scaler.fit_transform(X_train)\n",
    "#X_test_scaled = scaler.transform(X_test)\n",
    "\n",
    "linlasso = Lasso(alpha=150.0).fit(X_train, y_train)\n",
    "\n",
    "print('Non-zero features: {}'\n",
    "     .format(np.sum(linlasso.coef_ != 0)))\n",
    "print('R-squared score (training): {:.3f}'\n",
    "     .format(linlasso.score(X_train, y_train)))\n",
    "print('R-squared score (test): {:.3f}\\n'\n",
    "     .format(linlasso.score(X_test, y_test)))\n",
    "print('LIST OF SIGNIFICANT FEATURES:')\n",
    "\n",
    "for e in sorted (list(zip(list(X2), linlasso.coef_)),\n",
    "                key = lambda e: -abs(e[1])):\n",
    "    if e[1] != 0:\n",
    "        print('\\t{}, {:.3f}'.format(e[0], e[1]))"
   ]
  },
  {
   "cell_type": "markdown",
   "metadata": {},
   "source": [
    "Now we will apply Ridge Regression for different values of alpha to check the R-squared scores."
   ]
  },
  {
   "cell_type": "code",
   "execution_count": 53,
   "metadata": {},
   "outputs": [
    {
     "name": "stdout",
     "output_type": "stream",
     "text": [
      "Ridge regression: effect of alpha regularization parameter\n",
      "\n",
      "Alpha = 0.10\n",
      "num abs(coeff) > 1.0: 931, r-squared training: 0.92, r-squared test: 0.89\n",
      "\n",
      "Alpha = 10.00\n",
      "num abs(coeff) > 1.0: 940, r-squared training: 0.91, r-squared test: 0.89\n",
      "\n",
      "Alpha = 50.00\n",
      "num abs(coeff) > 1.0: 920, r-squared training: 0.90, r-squared test: 0.89\n",
      "\n",
      "Alpha = 150.00\n",
      "num abs(coeff) > 1.0: 911, r-squared training: 0.90, r-squared test: 0.89\n",
      "\n",
      "Alpha = 1000.00\n",
      "num abs(coeff) > 1.0: 899, r-squared training: 0.90, r-squared test: 0.89\n",
      "\n"
     ]
    },
    {
     "data": {
      "image/png": "[encoded data removed]",
      "text/plain": [
       "<matplotlib.figure.Figure at 0x11de1aa58>"
      ]
     },
     "metadata": {},
     "output_type": "display_data"
    }
   ],
   "source": [
    "from sklearn.linear_model import Ridge\n",
    "print('Ridge regression: effect of alpha regularization parameter\\n')\n",
    "training_score = []\n",
    "test_score=[]\n",
    "degree = []\n",
    "for this_alpha in [0.1,10,50,150,1000]:\n",
    "    linridge = Ridge(alpha = this_alpha).fit(X_train, y_train)\n",
    "    r2_train = linridge.score(X_train, y_train)\n",
    "    r2_test = linridge.score(X_test, y_test)\n",
    "    num_coeff_bigger = np.sum(abs(linridge.coef_) > 1.0)\n",
    "    print('Alpha = {:.2f}\\nnum abs(coeff) > 1.0: {}, \\\n",
    "r-squared training: {:.2f}, r-squared test: {:.2f}\\n'\n",
    "         .format(this_alpha, num_coeff_bigger, r2_train, r2_test))\n",
    "    training_score.append(r2_train)\n",
    "    test_score.append(r2_test)\n",
    "    degree.append(this_alpha)\n",
    "    \n",
    "plt.plot(degree,training_score, 'r--', degree, test_score,'-')\n",
    "plt.title('Comparison of scores for different alpha values')\n",
    "plt.xlabel('Alpha for Ridge Regression')\n",
    "plt.ylabel('R Score')\n",
    "plt.show()"
   ]
  },
  {
   "cell_type": "markdown",
   "metadata": {},
   "source": [
    "Cross Validation to choose best L1 and L2"
   ]
  },
  {
   "cell_type": "code",
   "execution_count": 43,
   "metadata": {},
   "outputs": [
    {
     "name": "stdout",
     "output_type": "stream",
     "text": [
      "Cross-validation scores (6-fold): [ 0.79991355  0.7995355   0.76930094  0.80920731  0.81961444  0.81476238]\n",
      "Mean cross-validation score (6-fold): 0.8020557\n",
      "Cross-validation scores (6-fold): [ 0.79965854  0.79936011  0.76874437  0.80934694  0.82004906  0.81413572]\n",
      "Mean cross-validation score (6-fold): 0.8018825\n",
      "Cross-validation scores (6-fold): [ 0.79811317  0.79773655  0.76708035  0.80907826  0.8207779   0.81236099]\n",
      "Mean cross-validation score (6-fold): 0.8008579\n",
      "Cross-validation scores (6-fold): [ 0.76537649  0.76030981  0.73193024  0.77842353  0.79623435  0.77929873]\n",
      "Mean cross-validation score (6-fold): 0.7685955\n"
     ]
    }
   ],
   "source": [
    "from sklearn.linear_model import Ridge\n",
    "from sklearn.linear_model import Lasso\n",
    "from sklearn.model_selection import validation_curve\n",
    "from sklearn.model_selection import cross_val_score\n",
    "\n",
    "for n in [0.1,50,150,1000]:\n",
    "    clf = Lasso(alpha= n)\n",
    "    X = X_final.as_matrix()\n",
    "    y = y2.as_matrix()\n",
    "    cv_scores = cross_val_score(clf, X, y, cv=6)\n",
    "    print('Cross-validation scores (6-fold):', cv_scores)\n",
    "    print('Mean cross-validation score (6-fold): {:.7f}'\n",
    "     .format(np.mean(cv_scores)))"
   ]
  },
  {
   "cell_type": "markdown",
   "metadata": {},
   "source": [
    "When running Lasso with Cross Validation, we can see that the optimum value of alpha is 0.01.\n",
    "Now we will run Cross Validation with different valus of alpha on Ridge."
   ]
  },
  {
   "cell_type": "code",
   "execution_count": 45,
   "metadata": {},
   "outputs": [
    {
     "name": "stdout",
     "output_type": "stream",
     "text": [
      "Cross-validation scores (6-fold): [ 0.7998941   0.79952541  0.76929533  0.80924913  0.81966163  0.81475416]\n",
      "Mean cross-validation score (6-fold): 0.8020633\n",
      "Cross-validation scores (6-fold): [ 0.79744303  0.79656433  0.76823768  0.81055279  0.82180354  0.81211901]\n",
      "Mean cross-validation score (6-fold): 0.8011201\n",
      "Cross-validation scores (6-fold): [ 0.78552982  0.77992021  0.75826701  0.79971706  0.81347553  0.79729171]\n",
      "Mean cross-validation score (6-fold): 0.7890336\n",
      "Cross-validation scores (6-fold): [ 0.77082756  0.76169878  0.74451209  0.78359314  0.79896975  0.78112811]\n",
      "Mean cross-validation score (6-fold): 0.7734549\n",
      "Cross-validation scores (6-fold): [ 0.66678487  0.65165917  0.64768204  0.67423714  0.68932787  0.68142561]\n",
      "Mean cross-validation score (6-fold): 0.6685195\n"
     ]
    }
   ],
   "source": [
    "from sklearn.linear_model import Ridge\n",
    "\n",
    "from sklearn.model_selection import cross_val_score\n",
    "\n",
    "for n in [0.1,10,50, 100, 1000]:\n",
    "    clf = Ridge(alpha= n)\n",
    "    X = X_final.as_matrix()\n",
    "    y = y2.as_matrix()\n",
    "    cv_scores = cross_val_score(clf, X, y, cv=6)\n",
    "    print('Cross-validation scores (6-fold):', cv_scores)\n",
    "    print('Mean cross-validation score (6-fold): {:.7f}'\n",
    "     .format(np.mean(cv_scores)))"
   ]
  },
  {
   "cell_type": "markdown",
   "metadata": {},
   "source": [
    "With alpha = 0.01, we get the best Cross Validation score."
   ]
  },
  {
   "cell_type": "markdown",
   "metadata": {},
   "source": [
    "PART 4"
   ]
  },
  {
   "cell_type": "code",
   "execution_count": 54,
   "metadata": {},
   "outputs": [
    {
     "name": "stdout",
     "output_type": "stream",
     "text": [
      "Neighbors: 1\n",
      "R-squared train score: 0.998\n",
      "R-squared test score: 0.202\n",
      "[  288000.  1035000.   475000. ...,   400000.   354000.   680000.]\n",
      "Neighbors: 2\n",
      "R-squared train score: 0.802\n",
      "R-squared test score: 0.371\n",
      "[ 404750.  887250.  360000. ...,  350000.  349000.  627400.]\n",
      "Neighbors: 3\n",
      "R-squared train score: 0.728\n",
      "R-squared test score: 0.439\n",
      "[ 459833.33333333  838166.66666667  397000.         ...,  695000.          315500.\n",
      "  559933.33333333]\n",
      "Neighbors: 4\n",
      "R-squared train score: 0.688\n",
      "R-squared test score: 0.470\n",
      "[ 468625.  775375.  400250. ...,  638250.  331525.  497450.]\n",
      "Neighbors: 5\n",
      "R-squared train score: 0.664\n",
      "R-squared test score: 0.494\n",
      "[ 483700.   902052.4  474200.  ...,  637600.   341220.   489560. ]\n",
      "Neighbors: 6\n",
      "R-squared train score: 0.647\n",
      "R-squared test score: 0.497\n",
      "[ 459916.66666667  859210.33333333  473500.         ...,  663416.66666667\n",
      "  334350.          460133.33333333]\n",
      "Neighbors: 7\n",
      "R-squared train score: 0.634\n",
      "R-squared test score: 0.499\n",
      "[ 426900.          875751.71428571  470142.85714286 ...,  707928.57142857\n",
      "  316585.71428571  467547.28571429]\n",
      "Neighbors: 8\n",
      "R-squared train score: 0.624\n",
      "R-squared test score: 0.501\n",
      "[ 432912.5    867907.75   471275.    ...,  725687.5    328950.     464478.875]\n",
      "Neighbors: 9\n",
      "R-squared train score: 0.613\n",
      "R-squared test score: 0.501\n",
      "[ 444811.11111111  847029.11111111  450577.77777778 ...,  690611.11111111\n",
      "  336511.11111111  491759.        ]\n"
     ]
    },
    {
     "data": {
      "image/png": "[encoded data removed]",
      "text/plain": [
       "<matplotlib.figure.Figure at 0x11c6d2c18>"
      ]
     },
     "metadata": {},
     "output_type": "display_data"
    }
   ],
   "source": [
    "from sklearn.neighbors import KNeighborsRegressor\n",
    "training_score=[]\n",
    "test_score=[]\n",
    "degree=[]\n",
    "for n in range(1,10):\n",
    "    knnreg = KNeighborsRegressor(n_neighbors = n).fit(X_train, y_train)\n",
    "    print('Neighbors: {:.0f}'.format(n))\n",
    "    print('R-squared train score: {:.3f}'\n",
    "     .format(knnreg.score(X_train, y_train)))\n",
    "    print('R-squared test score: {:.3f}'\n",
    "     .format(knnreg.score(X_test, y_test)))\n",
    "    print(knnreg.predict(X_test))\n",
    "    degree.append(n)\n",
    "    training_score.append(knnreg.score(X_train,y_train))\n",
    "    test_score.append(knnreg.score(X_test,y_test))\n",
    "    \n",
    "plt.plot(degree,training_score, 'r--', degree, test_score,'-')\n",
    "plt.title('Comparison of scores for different k values')\n",
    "plt.xlabel('k value')\n",
    "plt.ylabel('R Score')\n",
    "plt.show()    "
   ]
  },
  {
   "cell_type": "code",
   "execution_count": null,
   "metadata": {
    "collapsed": true
   },
   "outputs": [],
   "source": []
  }
 ],
 "metadata": {
  "kernelspec": {
   "display_name": "Python 3",
   "language": "python",
   "name": "python3"
  },
  "language_info": {
   "codemirror_mode": {
    "name": "ipython",
    "version": 3
   },
   "file_extension": ".py",
   "mimetype": "text/x-python",
   "name": "python",
   "nbconvert_exporter": "python",
   "pygments_lexer": "ipython3",
   "version": "3.6.1"
  }
 },
 "nbformat": 4,
 "nbformat_minor": 2
}
